{
  "cells": [
    {
      "cell_type": "markdown",
      "metadata": {
        "id": "view-in-github",
        "colab_type": "text"
      },
      "source": [
        "<a href=\"https://colab.research.google.com/github/mauricioaalmeida/ONE-TelecomX_parte2-/blob/main/ONE_TelecomX_BR_Parte2.ipynb\" target=\"_parent\"><img src=\"https://colab.research.google.com/assets/colab-badge.svg\" alt=\"Open In Colab\"/></a>"
      ]
    },
    {
      "cell_type": "markdown",
      "source": [
        "\n",
        "# Telecom X - Análise de Evasão de Clientes - Parte 2\n"
      ],
      "metadata": {
        "id": "ucjeX3osztd1"
      }
    },
    {
      "cell_type": "markdown",
      "source": [
        "🎯 Missão\n",
        "\n",
        "Sua nova missão é desenvolver modelos preditivos capazes de prever quais clientes têm maior chance de cancelar seus serviços.\n",
        "\n",
        "A empresa quer antecipar o problema da evasão, e cabe a você construir um pipeline robusto para essa etapa inicial de modelagem.\n",
        "🧠 Objetivos do Desafio\n",
        "\n",
        "   1. Preparar os dados para a modelagem (tratamento, encoding, normalização).\n",
        "\n",
        "   2. Realizar análise de correlação e seleção de variáveis.\n",
        "\n",
        "   3. Treinar dois ou mais modelos de classificação.\n",
        "\n",
        "   4. Avaliar o desempenho dos modelos com métricas.\n",
        "\n",
        "   5. Interpretar os resultados, incluindo a importância das variáveis.\n",
        "\n",
        "   6. Criar uma conclusão estratégica apontando os principais fatores que influenciam a evasão.\n",
        "\n",
        "🧰 O que você vai praticar\n",
        "\n",
        "✅ Pré-processamento de dados para Machine Learning\n",
        "✅ Construção e avaliação de modelos preditivos\n",
        "✅ Interpretação dos resultados e entrega de insights\n",
        "✅ Comunicação técnica com foco estratégico"
      ],
      "metadata": {
        "id": "7woN17aLq3AJ"
      }
    },
    {
      "cell_type": "markdown",
      "source": [
        "# Material de apoio:"
      ],
      "metadata": {
        "id": "hGm-1jWyOoTU"
      }
    },
    {
      "cell_type": "markdown",
      "source": [
        "### Dicionário de dados original\n",
        "\n",
        "  "
      ],
      "metadata": {
        "id": "k4ED0f0D921r"
      }
    },
    {
      "cell_type": "markdown",
      "source": [
        "    customerID: número de identificação único de cada cliente\n",
        "    Churn: se o cliente deixou ou não a empresa\n",
        "    gender: gênero (masculino e feminino)\n",
        "    SeniorCitizen: informação sobre um cliente ter ou não idade igual ou maior que 65 anos\n",
        "    Partner: se o cliente possui ou não um parceiro ou parceira\n",
        "    Dependents: se o cliente possui ou não dependentes\n",
        "    tenure: meses de contrato do cliente\n",
        "    PhoneService: assinatura de serviço telefônico\n",
        "    MultipleLines: assisnatura de mais de uma linha de telefone\n",
        "    InternetService: assinatura de um provedor internet\n",
        "    OnlineSecurity: assinatura adicional de segurança online\n",
        "    OnlineBackup: assinatura adicional de backup online\n",
        "    DeviceProtection: assinatura adicional de proteção no dispositivo\n",
        "    TechSupport: assinatura adicional de suporte técnico, menos tempo de espera\n",
        "    StreamingTV: assinatura de TV a cabo\n",
        "    StreamingMovies: assinatura de streaming de filmes\n",
        "    Contract: tipo de contrato\n",
        "    PaperlessBilling: se o cliente prefere receber online a fatura\n",
        "    PaymentMethod: forma de pagamento\n",
        "    Charges.Monthly: total de todos os serviços do cliente por mês\n",
        "    Charges.Total: total gasto pelo cliente\n"
      ],
      "metadata": {
        "id": "YKt-4t3t9pQL"
      }
    },
    {
      "cell_type": "markdown",
      "source": [
        "Novo Dicionário de dados\n",
        "\n",
        "- ID_Cliente (customerID): número de identificação único de cada cliente\n",
        "- Churn (Churn): se o cliente deixou ou não a empresa\n",
        "- Genero (gender): gênero (masculino e feminino)\n",
        "- Idoso (SeniorCitizen): informação sobre um cliente ter ou não idade igual ou maior que 65 anos\n",
        "- Casal (Partner): se o cliente possui ou não um parceiro ou parceira\n",
        "- Dependentes (Dependents): se o cliente possui ou não dependentes\n",
        "- Tempo_Contrato (tenure): meses de contrato do cliente\n",
        "- Servico_Telefone (PhoneService): assinatura de serviço telefônico\n",
        "- Servico_MultiplasLinhas (MultipleLines): assinatura de mais de uma linha de telefone\n",
        "- Servico_Internet (InternetService): assinatura de um provedor internet\n",
        "- Opt_OnlineSecurity (OnlineSecurity): assinatura adicional de segurança online\n",
        "- Opt_OnlineBackup (OnlineBackup): assinatura adicional de backup online\n",
        "- Opt_DeviceProtection (DeviceProtection): assinatura adicional de proteção no dispositivo\n",
        "- Opt_TechSupport (TechSupport): assinatura adicional de suporte técnico, menos tempo de espera\n",
        "- Opt_StreamingTV (StreamingTV): assinatura de TV a cabo\n",
        "- Opt_StreamingMovies (StreamingMovies): assinatura de streaming de filmes\n",
        "- Tipo_Contrato (Contract): tipo de contrato\n",
        "- FaturaOnline (PaperlessBilling): se o cliente prefere receber online a fatura\n",
        "- Forma_Pagto (PaymentMethod): forma de pagamento\n",
        "- Conta_Mensal (Charges.Monthly): total de todos os serviços do cliente por mês\n",
        "- Conta_Diarias (N/A): total de todos os serviços do cliente por mês\n",
        "- Conta_Total (Charges.Total): total gasto pelo cliente\n"
      ],
      "metadata": {
        "id": "cHGaSwmBN_t3"
      }
    },
    {
      "cell_type": "markdown",
      "source": [
        "## Preparação do ambiente:"
      ],
      "metadata": {
        "id": "pLguoX0NqbDL"
      }
    },
    {
      "cell_type": "code",
      "source": [
        "# Importação de Bibliotecas básicas\n",
        "import pandas as pd\n",
        "import numpy as np\n",
        "import matplotlib.pyplot as plt\n",
        "import seaborn as sns\n",
        "import requests\n",
        "import json\n",
        "import os"
      ],
      "metadata": {
        "id": "x9ZBgJIC05Af"
      },
      "execution_count": 1,
      "outputs": []
    },
    {
      "cell_type": "code",
      "source": [
        "#Criar a estrutura de diretórios para a armazenar os dados\n",
        "!mkdir -p data\n",
        "!mkdir -p data/bronze\n",
        "!mkdir -p data/prata\n",
        "!mkdir -p data/ouro\n",
        "!mkdir -p data/Images"
      ],
      "metadata": {
        "id": "q-AMbffmtJ0U"
      },
      "execution_count": 2,
      "outputs": []
    },
    {
      "cell_type": "code",
      "source": [
        "url ='https://raw.githubusercontent.com/mauricioaalmeida/ONE-TelecomX/refs/heads/main/data/prata/TelecomX_Data.parquet'\n",
        "r = requests.get(url)\n",
        "with open('data/prata/TelecomX_Data.parquet', 'wb') as f:\n",
        "    f.write(r.content)"
      ],
      "metadata": {
        "id": "65gf28bkr9Jh"
      },
      "execution_count": 3,
      "outputs": []
    },
    {
      "cell_type": "markdown",
      "metadata": {
        "id": "1lSZP8zmmGZu"
      },
      "source": [
        "#🎲 1. Preparar os dados para a modelagem (tratamento, encoding, normalização)."
      ]
    },
    {
      "cell_type": "markdown",
      "source": [
        "### Carga dos dados"
      ],
      "metadata": {
        "id": "DjdSDQe53Okx"
      }
    },
    {
      "cell_type": "code",
      "execution_count": 4,
      "metadata": {
        "id": "1jgUnLqTmPdd"
      },
      "outputs": [],
      "source": [
        "#Iniciando com o arquivo Parquet salvo na camada prata:\n",
        "df = pd.read_parquet('data/prata/TelecomX_Data.parquet')\n"
      ]
    },
    {
      "cell_type": "markdown",
      "source": [
        "### Analise de Features"
      ],
      "metadata": {
        "id": "oArD2XS43VdV"
      }
    },
    {
      "cell_type": "code",
      "source": [
        "df.head()"
      ],
      "metadata": {
        "colab": {
          "base_uri": "https://localhost:8080/",
          "height": 342
        },
        "id": "3PR8ha0usTE3",
        "outputId": "61816991-9595-4274-b689-8655e208549c"
      },
      "execution_count": 5,
      "outputs": [
        {
          "output_type": "execute_result",
          "data": {
            "text/plain": [
              "   ID_Cliente  Churn     Genero  Idoso  Casal  Dependentes  Tempo_Contrato  \\\n",
              "0  0002-ORFBO      0   Feminino      0      1            1               9   \n",
              "1  0003-MKNFE      0  Masculino      0      0            0               9   \n",
              "2  0004-TLHLJ      1  Masculino      0      0            0               4   \n",
              "3  0011-IGKFF      1  Masculino      1      1            0              13   \n",
              "4  0013-EXCHZ      1   Feminino      1      1            0               3   \n",
              "\n",
              "   Servico_Telefone  Servico_MultiplasLinhas Servico_Internet  ...  \\\n",
              "0                 1                        0              DSL  ...   \n",
              "1                 1                        1              DSL  ...   \n",
              "2                 1                        0      Fiber optic  ...   \n",
              "3                 1                        0      Fiber optic  ...   \n",
              "4                 1                        0      Fiber optic  ...   \n",
              "\n",
              "   Opt_DeviceProtection  Opt_TechSupport  Opt_StreamingTV  \\\n",
              "0                     0                1                1   \n",
              "1                     0                0                0   \n",
              "2                     1                0                0   \n",
              "3                     1                0                1   \n",
              "4                     0                1                1   \n",
              "\n",
              "   Opt_StreamingMovies   Tipo_Contrato  FaturaOnline       Forma_Pagto  \\\n",
              "0                    0        One year             1      Mailed check   \n",
              "1                    1  Month-to-month             0      Mailed check   \n",
              "2                    0  Month-to-month             1  Electronic check   \n",
              "3                    1  Month-to-month             1  Electronic check   \n",
              "4                    0  Month-to-month             1      Mailed check   \n",
              "\n",
              "   Conta_Mensal Conta_Total  Conta_Diarias  \n",
              "0          65.6      593.30       2.186667  \n",
              "1          59.9      542.40       1.996667  \n",
              "2          73.9      280.85       2.463333  \n",
              "3          98.0     1237.85       3.266667  \n",
              "4          83.9      267.40       2.796667  \n",
              "\n",
              "[5 rows x 22 columns]"
            ],
            "text/html": [
              "\n",
              "  <div id=\"df-2139687d-83d2-4f5f-ab8f-8902867253ef\" class=\"colab-df-container\">\n",
              "    <div>\n",
              "<style scoped>\n",
              "    .dataframe tbody tr th:only-of-type {\n",
              "        vertical-align: middle;\n",
              "    }\n",
              "\n",
              "    .dataframe tbody tr th {\n",
              "        vertical-align: top;\n",
              "    }\n",
              "\n",
              "    .dataframe thead th {\n",
              "        text-align: right;\n",
              "    }\n",
              "</style>\n",
              "<table border=\"1\" class=\"dataframe\">\n",
              "  <thead>\n",
              "    <tr style=\"text-align: right;\">\n",
              "      <th></th>\n",
              "      <th>ID_Cliente</th>\n",
              "      <th>Churn</th>\n",
              "      <th>Genero</th>\n",
              "      <th>Idoso</th>\n",
              "      <th>Casal</th>\n",
              "      <th>Dependentes</th>\n",
              "      <th>Tempo_Contrato</th>\n",
              "      <th>Servico_Telefone</th>\n",
              "      <th>Servico_MultiplasLinhas</th>\n",
              "      <th>Servico_Internet</th>\n",
              "      <th>...</th>\n",
              "      <th>Opt_DeviceProtection</th>\n",
              "      <th>Opt_TechSupport</th>\n",
              "      <th>Opt_StreamingTV</th>\n",
              "      <th>Opt_StreamingMovies</th>\n",
              "      <th>Tipo_Contrato</th>\n",
              "      <th>FaturaOnline</th>\n",
              "      <th>Forma_Pagto</th>\n",
              "      <th>Conta_Mensal</th>\n",
              "      <th>Conta_Total</th>\n",
              "      <th>Conta_Diarias</th>\n",
              "    </tr>\n",
              "  </thead>\n",
              "  <tbody>\n",
              "    <tr>\n",
              "      <th>0</th>\n",
              "      <td>0002-ORFBO</td>\n",
              "      <td>0</td>\n",
              "      <td>Feminino</td>\n",
              "      <td>0</td>\n",
              "      <td>1</td>\n",
              "      <td>1</td>\n",
              "      <td>9</td>\n",
              "      <td>1</td>\n",
              "      <td>0</td>\n",
              "      <td>DSL</td>\n",
              "      <td>...</td>\n",
              "      <td>0</td>\n",
              "      <td>1</td>\n",
              "      <td>1</td>\n",
              "      <td>0</td>\n",
              "      <td>One year</td>\n",
              "      <td>1</td>\n",
              "      <td>Mailed check</td>\n",
              "      <td>65.6</td>\n",
              "      <td>593.30</td>\n",
              "      <td>2.186667</td>\n",
              "    </tr>\n",
              "    <tr>\n",
              "      <th>1</th>\n",
              "      <td>0003-MKNFE</td>\n",
              "      <td>0</td>\n",
              "      <td>Masculino</td>\n",
              "      <td>0</td>\n",
              "      <td>0</td>\n",
              "      <td>0</td>\n",
              "      <td>9</td>\n",
              "      <td>1</td>\n",
              "      <td>1</td>\n",
              "      <td>DSL</td>\n",
              "      <td>...</td>\n",
              "      <td>0</td>\n",
              "      <td>0</td>\n",
              "      <td>0</td>\n",
              "      <td>1</td>\n",
              "      <td>Month-to-month</td>\n",
              "      <td>0</td>\n",
              "      <td>Mailed check</td>\n",
              "      <td>59.9</td>\n",
              "      <td>542.40</td>\n",
              "      <td>1.996667</td>\n",
              "    </tr>\n",
              "    <tr>\n",
              "      <th>2</th>\n",
              "      <td>0004-TLHLJ</td>\n",
              "      <td>1</td>\n",
              "      <td>Masculino</td>\n",
              "      <td>0</td>\n",
              "      <td>0</td>\n",
              "      <td>0</td>\n",
              "      <td>4</td>\n",
              "      <td>1</td>\n",
              "      <td>0</td>\n",
              "      <td>Fiber optic</td>\n",
              "      <td>...</td>\n",
              "      <td>1</td>\n",
              "      <td>0</td>\n",
              "      <td>0</td>\n",
              "      <td>0</td>\n",
              "      <td>Month-to-month</td>\n",
              "      <td>1</td>\n",
              "      <td>Electronic check</td>\n",
              "      <td>73.9</td>\n",
              "      <td>280.85</td>\n",
              "      <td>2.463333</td>\n",
              "    </tr>\n",
              "    <tr>\n",
              "      <th>3</th>\n",
              "      <td>0011-IGKFF</td>\n",
              "      <td>1</td>\n",
              "      <td>Masculino</td>\n",
              "      <td>1</td>\n",
              "      <td>1</td>\n",
              "      <td>0</td>\n",
              "      <td>13</td>\n",
              "      <td>1</td>\n",
              "      <td>0</td>\n",
              "      <td>Fiber optic</td>\n",
              "      <td>...</td>\n",
              "      <td>1</td>\n",
              "      <td>0</td>\n",
              "      <td>1</td>\n",
              "      <td>1</td>\n",
              "      <td>Month-to-month</td>\n",
              "      <td>1</td>\n",
              "      <td>Electronic check</td>\n",
              "      <td>98.0</td>\n",
              "      <td>1237.85</td>\n",
              "      <td>3.266667</td>\n",
              "    </tr>\n",
              "    <tr>\n",
              "      <th>4</th>\n",
              "      <td>0013-EXCHZ</td>\n",
              "      <td>1</td>\n",
              "      <td>Feminino</td>\n",
              "      <td>1</td>\n",
              "      <td>1</td>\n",
              "      <td>0</td>\n",
              "      <td>3</td>\n",
              "      <td>1</td>\n",
              "      <td>0</td>\n",
              "      <td>Fiber optic</td>\n",
              "      <td>...</td>\n",
              "      <td>0</td>\n",
              "      <td>1</td>\n",
              "      <td>1</td>\n",
              "      <td>0</td>\n",
              "      <td>Month-to-month</td>\n",
              "      <td>1</td>\n",
              "      <td>Mailed check</td>\n",
              "      <td>83.9</td>\n",
              "      <td>267.40</td>\n",
              "      <td>2.796667</td>\n",
              "    </tr>\n",
              "  </tbody>\n",
              "</table>\n",
              "<p>5 rows × 22 columns</p>\n",
              "</div>\n",
              "    <div class=\"colab-df-buttons\">\n",
              "\n",
              "  <div class=\"colab-df-container\">\n",
              "    <button class=\"colab-df-convert\" onclick=\"convertToInteractive('df-2139687d-83d2-4f5f-ab8f-8902867253ef')\"\n",
              "            title=\"Convert this dataframe to an interactive table.\"\n",
              "            style=\"display:none;\">\n",
              "\n",
              "  <svg xmlns=\"http://www.w3.org/2000/svg\" height=\"24px\" viewBox=\"0 -960 960 960\">\n",
              "    <path d=\"M120-120v-720h720v720H120Zm60-500h600v-160H180v160Zm220 220h160v-160H400v160Zm0 220h160v-160H400v160ZM180-400h160v-160H180v160Zm440 0h160v-160H620v160ZM180-180h160v-160H180v160Zm440 0h160v-160H620v160Z\"/>\n",
              "  </svg>\n",
              "    </button>\n",
              "\n",
              "  <style>\n",
              "    .colab-df-container {\n",
              "      display:flex;\n",
              "      gap: 12px;\n",
              "    }\n",
              "\n",
              "    .colab-df-convert {\n",
              "      background-color: #E8F0FE;\n",
              "      border: none;\n",
              "      border-radius: 50%;\n",
              "      cursor: pointer;\n",
              "      display: none;\n",
              "      fill: #1967D2;\n",
              "      height: 32px;\n",
              "      padding: 0 0 0 0;\n",
              "      width: 32px;\n",
              "    }\n",
              "\n",
              "    .colab-df-convert:hover {\n",
              "      background-color: #E2EBFA;\n",
              "      box-shadow: 0px 1px 2px rgba(60, 64, 67, 0.3), 0px 1px 3px 1px rgba(60, 64, 67, 0.15);\n",
              "      fill: #174EA6;\n",
              "    }\n",
              "\n",
              "    .colab-df-buttons div {\n",
              "      margin-bottom: 4px;\n",
              "    }\n",
              "\n",
              "    [theme=dark] .colab-df-convert {\n",
              "      background-color: #3B4455;\n",
              "      fill: #D2E3FC;\n",
              "    }\n",
              "\n",
              "    [theme=dark] .colab-df-convert:hover {\n",
              "      background-color: #434B5C;\n",
              "      box-shadow: 0px 1px 3px 1px rgba(0, 0, 0, 0.15);\n",
              "      filter: drop-shadow(0px 1px 2px rgba(0, 0, 0, 0.3));\n",
              "      fill: #FFFFFF;\n",
              "    }\n",
              "  </style>\n",
              "\n",
              "    <script>\n",
              "      const buttonEl =\n",
              "        document.querySelector('#df-2139687d-83d2-4f5f-ab8f-8902867253ef button.colab-df-convert');\n",
              "      buttonEl.style.display =\n",
              "        google.colab.kernel.accessAllowed ? 'block' : 'none';\n",
              "\n",
              "      async function convertToInteractive(key) {\n",
              "        const element = document.querySelector('#df-2139687d-83d2-4f5f-ab8f-8902867253ef');\n",
              "        const dataTable =\n",
              "          await google.colab.kernel.invokeFunction('convertToInteractive',\n",
              "                                                    [key], {});\n",
              "        if (!dataTable) return;\n",
              "\n",
              "        const docLinkHtml = 'Like what you see? Visit the ' +\n",
              "          '<a target=\"_blank\" href=https://colab.research.google.com/notebooks/data_table.ipynb>data table notebook</a>'\n",
              "          + ' to learn more about interactive tables.';\n",
              "        element.innerHTML = '';\n",
              "        dataTable['output_type'] = 'display_data';\n",
              "        await google.colab.output.renderOutput(dataTable, element);\n",
              "        const docLink = document.createElement('div');\n",
              "        docLink.innerHTML = docLinkHtml;\n",
              "        element.appendChild(docLink);\n",
              "      }\n",
              "    </script>\n",
              "  </div>\n",
              "\n",
              "\n",
              "    <div id=\"df-85bf1e7e-ae84-49c2-8881-ff1a03653d68\">\n",
              "      <button class=\"colab-df-quickchart\" onclick=\"quickchart('df-85bf1e7e-ae84-49c2-8881-ff1a03653d68')\"\n",
              "                title=\"Suggest charts\"\n",
              "                style=\"display:none;\">\n",
              "\n",
              "<svg xmlns=\"http://www.w3.org/2000/svg\" height=\"24px\"viewBox=\"0 0 24 24\"\n",
              "     width=\"24px\">\n",
              "    <g>\n",
              "        <path d=\"M19 3H5c-1.1 0-2 .9-2 2v14c0 1.1.9 2 2 2h14c1.1 0 2-.9 2-2V5c0-1.1-.9-2-2-2zM9 17H7v-7h2v7zm4 0h-2V7h2v10zm4 0h-2v-4h2v4z\"/>\n",
              "    </g>\n",
              "</svg>\n",
              "      </button>\n",
              "\n",
              "<style>\n",
              "  .colab-df-quickchart {\n",
              "      --bg-color: #E8F0FE;\n",
              "      --fill-color: #1967D2;\n",
              "      --hover-bg-color: #E2EBFA;\n",
              "      --hover-fill-color: #174EA6;\n",
              "      --disabled-fill-color: #AAA;\n",
              "      --disabled-bg-color: #DDD;\n",
              "  }\n",
              "\n",
              "  [theme=dark] .colab-df-quickchart {\n",
              "      --bg-color: #3B4455;\n",
              "      --fill-color: #D2E3FC;\n",
              "      --hover-bg-color: #434B5C;\n",
              "      --hover-fill-color: #FFFFFF;\n",
              "      --disabled-bg-color: #3B4455;\n",
              "      --disabled-fill-color: #666;\n",
              "  }\n",
              "\n",
              "  .colab-df-quickchart {\n",
              "    background-color: var(--bg-color);\n",
              "    border: none;\n",
              "    border-radius: 50%;\n",
              "    cursor: pointer;\n",
              "    display: none;\n",
              "    fill: var(--fill-color);\n",
              "    height: 32px;\n",
              "    padding: 0;\n",
              "    width: 32px;\n",
              "  }\n",
              "\n",
              "  .colab-df-quickchart:hover {\n",
              "    background-color: var(--hover-bg-color);\n",
              "    box-shadow: 0 1px 2px rgba(60, 64, 67, 0.3), 0 1px 3px 1px rgba(60, 64, 67, 0.15);\n",
              "    fill: var(--button-hover-fill-color);\n",
              "  }\n",
              "\n",
              "  .colab-df-quickchart-complete:disabled,\n",
              "  .colab-df-quickchart-complete:disabled:hover {\n",
              "    background-color: var(--disabled-bg-color);\n",
              "    fill: var(--disabled-fill-color);\n",
              "    box-shadow: none;\n",
              "  }\n",
              "\n",
              "  .colab-df-spinner {\n",
              "    border: 2px solid var(--fill-color);\n",
              "    border-color: transparent;\n",
              "    border-bottom-color: var(--fill-color);\n",
              "    animation:\n",
              "      spin 1s steps(1) infinite;\n",
              "  }\n",
              "\n",
              "  @keyframes spin {\n",
              "    0% {\n",
              "      border-color: transparent;\n",
              "      border-bottom-color: var(--fill-color);\n",
              "      border-left-color: var(--fill-color);\n",
              "    }\n",
              "    20% {\n",
              "      border-color: transparent;\n",
              "      border-left-color: var(--fill-color);\n",
              "      border-top-color: var(--fill-color);\n",
              "    }\n",
              "    30% {\n",
              "      border-color: transparent;\n",
              "      border-left-color: var(--fill-color);\n",
              "      border-top-color: var(--fill-color);\n",
              "      border-right-color: var(--fill-color);\n",
              "    }\n",
              "    40% {\n",
              "      border-color: transparent;\n",
              "      border-right-color: var(--fill-color);\n",
              "      border-top-color: var(--fill-color);\n",
              "    }\n",
              "    60% {\n",
              "      border-color: transparent;\n",
              "      border-right-color: var(--fill-color);\n",
              "    }\n",
              "    80% {\n",
              "      border-color: transparent;\n",
              "      border-right-color: var(--fill-color);\n",
              "      border-bottom-color: var(--fill-color);\n",
              "    }\n",
              "    90% {\n",
              "      border-color: transparent;\n",
              "      border-bottom-color: var(--fill-color);\n",
              "    }\n",
              "  }\n",
              "</style>\n",
              "\n",
              "      <script>\n",
              "        async function quickchart(key) {\n",
              "          const quickchartButtonEl =\n",
              "            document.querySelector('#' + key + ' button');\n",
              "          quickchartButtonEl.disabled = true;  // To prevent multiple clicks.\n",
              "          quickchartButtonEl.classList.add('colab-df-spinner');\n",
              "          try {\n",
              "            const charts = await google.colab.kernel.invokeFunction(\n",
              "                'suggestCharts', [key], {});\n",
              "          } catch (error) {\n",
              "            console.error('Error during call to suggestCharts:', error);\n",
              "          }\n",
              "          quickchartButtonEl.classList.remove('colab-df-spinner');\n",
              "          quickchartButtonEl.classList.add('colab-df-quickchart-complete');\n",
              "        }\n",
              "        (() => {\n",
              "          let quickchartButtonEl =\n",
              "            document.querySelector('#df-85bf1e7e-ae84-49c2-8881-ff1a03653d68 button');\n",
              "          quickchartButtonEl.style.display =\n",
              "            google.colab.kernel.accessAllowed ? 'block' : 'none';\n",
              "        })();\n",
              "      </script>\n",
              "    </div>\n",
              "\n",
              "    </div>\n",
              "  </div>\n"
            ],
            "application/vnd.google.colaboratory.intrinsic+json": {
              "type": "dataframe",
              "variable_name": "df"
            }
          },
          "metadata": {},
          "execution_count": 5
        }
      ]
    },
    {
      "cell_type": "code",
      "source": [
        "df.info()"
      ],
      "metadata": {
        "colab": {
          "base_uri": "https://localhost:8080/"
        },
        "id": "X0EGXH-Ssc0m",
        "outputId": "c923b80f-2c8e-4028-cc6c-866e3176e8df"
      },
      "execution_count": 6,
      "outputs": [
        {
          "output_type": "stream",
          "name": "stdout",
          "text": [
            "<class 'pandas.core.frame.DataFrame'>\n",
            "Index: 7032 entries, 0 to 7266\n",
            "Data columns (total 22 columns):\n",
            " #   Column                   Non-Null Count  Dtype   \n",
            "---  ------                   --------------  -----   \n",
            " 0   ID_Cliente               7032 non-null   object  \n",
            " 1   Churn                    7032 non-null   int64   \n",
            " 2   Genero                   7032 non-null   category\n",
            " 3   Idoso                    7032 non-null   int64   \n",
            " 4   Casal                    7032 non-null   int64   \n",
            " 5   Dependentes              7032 non-null   int64   \n",
            " 6   Tempo_Contrato           7032 non-null   int64   \n",
            " 7   Servico_Telefone         7032 non-null   int64   \n",
            " 8   Servico_MultiplasLinhas  7032 non-null   int64   \n",
            " 9   Servico_Internet         7032 non-null   category\n",
            " 10  Opt_OnlineSecurity       7032 non-null   int64   \n",
            " 11  Opt_OnlineBackup         7032 non-null   int64   \n",
            " 12  Opt_DeviceProtection     7032 non-null   int64   \n",
            " 13  Opt_TechSupport          7032 non-null   int64   \n",
            " 14  Opt_StreamingTV          7032 non-null   int64   \n",
            " 15  Opt_StreamingMovies      7032 non-null   int64   \n",
            " 16  Tipo_Contrato            7032 non-null   category\n",
            " 17  FaturaOnline             7032 non-null   int64   \n",
            " 18  Forma_Pagto              7032 non-null   category\n",
            " 19  Conta_Mensal             7032 non-null   float64 \n",
            " 20  Conta_Total              7032 non-null   float64 \n",
            " 21  Conta_Diarias            7032 non-null   float64 \n",
            "dtypes: category(4), float64(3), int64(14), object(1)\n",
            "memory usage: 1.0+ MB\n"
          ]
        }
      ]
    },
    {
      "cell_type": "code",
      "source": [
        "df.nunique()"
      ],
      "metadata": {
        "colab": {
          "base_uri": "https://localhost:8080/",
          "height": 774
        },
        "id": "KL05A-pFsn9y",
        "outputId": "d717e234-8504-4070-ded0-718246b7fae2"
      },
      "execution_count": 7,
      "outputs": [
        {
          "output_type": "execute_result",
          "data": {
            "text/plain": [
              "ID_Cliente                 7032\n",
              "Churn                         2\n",
              "Genero                        2\n",
              "Idoso                         2\n",
              "Casal                         2\n",
              "Dependentes                   2\n",
              "Tempo_Contrato               72\n",
              "Servico_Telefone              2\n",
              "Servico_MultiplasLinhas       2\n",
              "Servico_Internet              3\n",
              "Opt_OnlineSecurity            2\n",
              "Opt_OnlineBackup              2\n",
              "Opt_DeviceProtection          2\n",
              "Opt_TechSupport               2\n",
              "Opt_StreamingTV               2\n",
              "Opt_StreamingMovies           2\n",
              "Tipo_Contrato                 3\n",
              "FaturaOnline                  2\n",
              "Forma_Pagto                   4\n",
              "Conta_Mensal               1584\n",
              "Conta_Total                6530\n",
              "Conta_Diarias              1584\n",
              "dtype: int64"
            ],
            "text/html": [
              "<div>\n",
              "<style scoped>\n",
              "    .dataframe tbody tr th:only-of-type {\n",
              "        vertical-align: middle;\n",
              "    }\n",
              "\n",
              "    .dataframe tbody tr th {\n",
              "        vertical-align: top;\n",
              "    }\n",
              "\n",
              "    .dataframe thead th {\n",
              "        text-align: right;\n",
              "    }\n",
              "</style>\n",
              "<table border=\"1\" class=\"dataframe\">\n",
              "  <thead>\n",
              "    <tr style=\"text-align: right;\">\n",
              "      <th></th>\n",
              "      <th>0</th>\n",
              "    </tr>\n",
              "  </thead>\n",
              "  <tbody>\n",
              "    <tr>\n",
              "      <th>ID_Cliente</th>\n",
              "      <td>7032</td>\n",
              "    </tr>\n",
              "    <tr>\n",
              "      <th>Churn</th>\n",
              "      <td>2</td>\n",
              "    </tr>\n",
              "    <tr>\n",
              "      <th>Genero</th>\n",
              "      <td>2</td>\n",
              "    </tr>\n",
              "    <tr>\n",
              "      <th>Idoso</th>\n",
              "      <td>2</td>\n",
              "    </tr>\n",
              "    <tr>\n",
              "      <th>Casal</th>\n",
              "      <td>2</td>\n",
              "    </tr>\n",
              "    <tr>\n",
              "      <th>Dependentes</th>\n",
              "      <td>2</td>\n",
              "    </tr>\n",
              "    <tr>\n",
              "      <th>Tempo_Contrato</th>\n",
              "      <td>72</td>\n",
              "    </tr>\n",
              "    <tr>\n",
              "      <th>Servico_Telefone</th>\n",
              "      <td>2</td>\n",
              "    </tr>\n",
              "    <tr>\n",
              "      <th>Servico_MultiplasLinhas</th>\n",
              "      <td>2</td>\n",
              "    </tr>\n",
              "    <tr>\n",
              "      <th>Servico_Internet</th>\n",
              "      <td>3</td>\n",
              "    </tr>\n",
              "    <tr>\n",
              "      <th>Opt_OnlineSecurity</th>\n",
              "      <td>2</td>\n",
              "    </tr>\n",
              "    <tr>\n",
              "      <th>Opt_OnlineBackup</th>\n",
              "      <td>2</td>\n",
              "    </tr>\n",
              "    <tr>\n",
              "      <th>Opt_DeviceProtection</th>\n",
              "      <td>2</td>\n",
              "    </tr>\n",
              "    <tr>\n",
              "      <th>Opt_TechSupport</th>\n",
              "      <td>2</td>\n",
              "    </tr>\n",
              "    <tr>\n",
              "      <th>Opt_StreamingTV</th>\n",
              "      <td>2</td>\n",
              "    </tr>\n",
              "    <tr>\n",
              "      <th>Opt_StreamingMovies</th>\n",
              "      <td>2</td>\n",
              "    </tr>\n",
              "    <tr>\n",
              "      <th>Tipo_Contrato</th>\n",
              "      <td>3</td>\n",
              "    </tr>\n",
              "    <tr>\n",
              "      <th>FaturaOnline</th>\n",
              "      <td>2</td>\n",
              "    </tr>\n",
              "    <tr>\n",
              "      <th>Forma_Pagto</th>\n",
              "      <td>4</td>\n",
              "    </tr>\n",
              "    <tr>\n",
              "      <th>Conta_Mensal</th>\n",
              "      <td>1584</td>\n",
              "    </tr>\n",
              "    <tr>\n",
              "      <th>Conta_Total</th>\n",
              "      <td>6530</td>\n",
              "    </tr>\n",
              "    <tr>\n",
              "      <th>Conta_Diarias</th>\n",
              "      <td>1584</td>\n",
              "    </tr>\n",
              "  </tbody>\n",
              "</table>\n",
              "</div><br><label><b>dtype:</b> int64</label>"
            ]
          },
          "metadata": {},
          "execution_count": 7
        }
      ]
    },
    {
      "cell_type": "code",
      "source": [
        "col_alvo = 'Churn'\n",
        "col_id = 'ID_Cliente'\n",
        "\n",
        "colunas = df.columns.tolist()\n",
        "col_categoricas = df.select_dtypes(include=['object','category']).columns.tolist()\n",
        "col_numericas = df.select_dtypes(include=['number']).columns.tolist()\n",
        "col_categoricas.remove(col_id)\n",
        "col_numericas.remove(col_alvo)\n",
        "print (f'Categoricas: {col_categoricas}')\n",
        "print (f'Numéricas: {col_numericas}')"
      ],
      "metadata": {
        "colab": {
          "base_uri": "https://localhost:8080/"
        },
        "id": "V3KUtdQytF7L",
        "outputId": "0e876d40-ba27-40b9-b883-1b8bc28a4e9d"
      },
      "execution_count": 8,
      "outputs": [
        {
          "output_type": "stream",
          "name": "stdout",
          "text": [
            "Categoricas: ['Genero', 'Servico_Internet', 'Tipo_Contrato', 'Forma_Pagto']\n",
            "Numéricas: ['Idoso', 'Casal', 'Dependentes', 'Tempo_Contrato', 'Servico_Telefone', 'Servico_MultiplasLinhas', 'Opt_OnlineSecurity', 'Opt_OnlineBackup', 'Opt_DeviceProtection', 'Opt_TechSupport', 'Opt_StreamingTV', 'Opt_StreamingMovies', 'FaturaOnline', 'Conta_Mensal', 'Conta_Total', 'Conta_Diarias']\n"
          ]
        }
      ]
    },
    {
      "cell_type": "code",
      "source": [
        "col_numericas_binarias = ['Idoso', 'Casal', 'Dependentes',  'Servico_Telefone', 'Servico_MultiplasLinhas', 'Opt_OnlineSecurity', 'Opt_OnlineBackup', 'Opt_DeviceProtection', 'Opt_TechSupport', 'Opt_StreamingTV', 'Opt_StreamingMovies', 'FaturaOnline']\n",
        "col_numericas_discretas = ['Tempo_Contrato']\n",
        "col_numericas_continuas = ['Conta_Mensal', 'Conta_Total', 'Conta_Diarias']"
      ],
      "metadata": {
        "id": "IuBkQGPFz0rK"
      },
      "execution_count": 9,
      "outputs": []
    },
    {
      "cell_type": "code",
      "source": [
        "# Verificação das colunas binarias:\n",
        "for col in col_numericas_binarias:\n",
        "  print(f'{col}: {df[col].unique()}')\n"
      ],
      "metadata": {
        "colab": {
          "base_uri": "https://localhost:8080/"
        },
        "id": "h1nlbal91dGW",
        "outputId": "ba07e8df-00bc-4f0a-f534-26078c055d12"
      },
      "execution_count": 10,
      "outputs": [
        {
          "output_type": "stream",
          "name": "stdout",
          "text": [
            "Idoso: [0 1]\n",
            "Casal: [1 0]\n",
            "Dependentes: [1 0]\n",
            "Servico_Telefone: [1 0]\n",
            "Servico_MultiplasLinhas: [0 1]\n",
            "Opt_OnlineSecurity: [0 1]\n",
            "Opt_OnlineBackup: [1 0]\n",
            "Opt_DeviceProtection: [0 1]\n",
            "Opt_TechSupport: [1 0]\n",
            "Opt_StreamingTV: [1 0]\n",
            "Opt_StreamingMovies: [0 1]\n",
            "FaturaOnline: [1 0]\n"
          ]
        }
      ]
    },
    {
      "cell_type": "code",
      "source": [
        "# Verificação das colunas discretas:\n",
        "for col in col_numericas_discretas:\n",
        "  print(f'{col}: {df[col].unique()}')\n"
      ],
      "metadata": {
        "colab": {
          "base_uri": "https://localhost:8080/"
        },
        "id": "TQdKug2A1qaB",
        "outputId": "e672ef1e-e26b-44a2-e9d3-9ea3b9aa62ab"
      },
      "execution_count": 11,
      "outputs": [
        {
          "output_type": "stream",
          "name": "stdout",
          "text": [
            "Tempo_Contrato: [ 9  4 13  3 71 63  7 65 54 72  5 56 34  1 45 50 23 55 26 69 37 49 66 67\n",
            " 20 43 59 12 27  2 25 29 14 35 64 39 40 11  6 30 70 57 58 16 32 33 10 21\n",
            " 61 15 44 22 24 19 47 62 46 52  8 60 48 28 41 53 68 31 36 17 18 51 38 42]\n"
          ]
        }
      ]
    },
    {
      "cell_type": "code",
      "source": [
        "sns.histplot(df['Tempo_Contrato'], kde=True)"
      ],
      "metadata": {
        "colab": {
          "base_uri": "https://localhost:8080/",
          "height": 467
        },
        "id": "cNNK7G_c4fD9",
        "outputId": "e127790b-352d-4ebc-d6c7-dc19af39ed5d"
      },
      "execution_count": 12,
      "outputs": [
        {
          "output_type": "execute_result",
          "data": {
            "text/plain": [
              "<Axes: xlabel='Tempo_Contrato', ylabel='Count'>"
            ]
          },
          "metadata": {},
          "execution_count": 12
        },
        {
          "output_type": "display_data",
          "data": {
            "text/plain": [
              "<Figure size 640x480 with 1 Axes>"
            ],
            "image/png": "[encoded data removed]"
          },
          "metadata": {}
        }
      ]
    },
    {
      "cell_type": "code",
      "source": [
        "# Verificação das colunas contínuas:\n",
        "for col in col_numericas_continuas:\n",
        "  print(f'{col}: Min:{df[col].min()} - Media:{df[col].mean()} - Max:{df[col].max()}')"
      ],
      "metadata": {
        "colab": {
          "base_uri": "https://localhost:8080/"
        },
        "id": "sLRYdxnn11bx",
        "outputId": "dd8fdeb3-10a7-4abe-d970-ca36ead92726"
      },
      "execution_count": 13,
      "outputs": [
        {
          "output_type": "stream",
          "name": "stdout",
          "text": [
            "Conta_Mensal: Min:18.25 - Media:64.79820819112628 - Max:118.75\n",
            "Conta_Total: Min:18.8 - Media:2283.3004408418656 - Max:8684.8\n",
            "Conta_Diarias: Min:0.6083333333333333 - Media:2.1599402730375425 - Max:3.9583333333333335\n"
          ]
        }
      ]
    },
    {
      "cell_type": "code",
      "source": [
        "sns.histplot(df['Conta_Diarias'], kde=True)\n"
      ],
      "metadata": {
        "colab": {
          "base_uri": "https://localhost:8080/",
          "height": 468
        },
        "id": "1ZlKZ1RN2erj",
        "outputId": "070c23fe-0947-4871-f4ea-2d63730220ba"
      },
      "execution_count": 14,
      "outputs": [
        {
          "output_type": "execute_result",
          "data": {
            "text/plain": [
              "<Axes: xlabel='Conta_Diarias', ylabel='Count'>"
            ]
          },
          "metadata": {},
          "execution_count": 14
        },
        {
          "output_type": "display_data",
          "data": {
            "text/plain": [
              "<Figure size 640x480 with 1 Axes>"
            ],
            "image/png": "[encoded data removed]"
          },
          "metadata": {}
        }
      ]
    },
    {
      "cell_type": "code",
      "source": [
        "# Verificação das colunas categoricas:\n",
        "for col in col_categoricas:\n",
        "  print(f'{col}: {df[col].unique()}')\n",
        "  print('--------------------------------')"
      ],
      "metadata": {
        "colab": {
          "base_uri": "https://localhost:8080/"
        },
        "id": "HjVa9P6B4D-u",
        "outputId": "bafcbb7e-d462-453d-ee36-d355861a0489"
      },
      "execution_count": 15,
      "outputs": [
        {
          "output_type": "stream",
          "name": "stdout",
          "text": [
            "Genero: ['Feminino', 'Masculino']\n",
            "Categories (2, object): ['Feminino', 'Masculino']\n",
            "--------------------------------\n",
            "Servico_Internet: ['DSL', 'Fiber optic', 'No']\n",
            "Categories (3, object): ['DSL', 'Fiber optic', 'No']\n",
            "--------------------------------\n",
            "Tipo_Contrato: ['One year', 'Month-to-month', 'Two year']\n",
            "Categories (3, object): ['Month-to-month', 'One year', 'Two year']\n",
            "--------------------------------\n",
            "Forma_Pagto: ['Mailed check', 'Electronic check', 'Credit card (automatic)', 'Bank transfer (automatic)']\n",
            "Categories (4, object): ['Bank transfer (automatic)', 'Credit card (automatic)', 'Electronic check',\n",
            "                         'Mailed check']\n",
            "--------------------------------\n"
          ]
        }
      ]
    },
    {
      "cell_type": "code",
      "source": [
        "# Tratar a coluna Forma_Pagto\n",
        "df['Forma_Pagto'] = df['Forma_Pagto'].str.replace(' (automatic)', '')\n",
        "df['Forma_Pagto'].unique()"
      ],
      "metadata": {
        "colab": {
          "base_uri": "https://localhost:8080/"
        },
        "id": "cXKDgmTg6I6M",
        "outputId": "3e1054c3-10d0-47da-9459-5c57bac89fd3"
      },
      "execution_count": 16,
      "outputs": [
        {
          "output_type": "execute_result",
          "data": {
            "text/plain": [
              "array(['Mailed check', 'Electronic check', 'Credit card', 'Bank transfer'],\n",
              "      dtype=object)"
            ]
          },
          "metadata": {},
          "execution_count": 16
        }
      ]
    },
    {
      "cell_type": "markdown",
      "source": [
        "### Eliminar colunas desnecessárias:"
      ],
      "metadata": {
        "id": "tkCvOGuJ4y34"
      }
    },
    {
      "cell_type": "code",
      "source": [
        "col_remover = ['ID_Cliente','Conta_Mensal', 'Conta_Total']\n",
        "df = df.drop(columns=col_remover, axis=1)"
      ],
      "metadata": {
        "id": "hEFRNJwC45So"
      },
      "execution_count": 17,
      "outputs": []
    },
    {
      "cell_type": "markdown",
      "source": [
        "### Transformar colunas categoricas"
      ],
      "metadata": {
        "id": "H22nPoW_xn3w"
      }
    },
    {
      "cell_type": "code",
      "source": [
        "from sklearn.preprocessing import OneHotEncoder, MinMaxScaler\n",
        "from sklearn.compose import make_column_transformer\n",
        "from sklearn.preprocessing import LabelEncoder"
      ],
      "metadata": {
        "id": "8TdhntS21RDs"
      },
      "execution_count": 18,
      "outputs": []
    },
    {
      "cell_type": "code",
      "source": [
        "one_hot = make_column_transformer((\n",
        "    OneHotEncoder( handle_unknown= 'ignore'),#drop = 'if_binary'),\n",
        "    col_categoricas),\n",
        "    remainder='passthrough',\n",
        "    sparse_threshold=0)\n",
        "\n",
        "df_enc = one_hot.fit_transform(df)"
      ],
      "metadata": {
        "id": "BaxDxoXatRih"
      },
      "execution_count": 19,
      "outputs": []
    },
    {
      "cell_type": "code",
      "source": [
        "one_hot.get_feature_names_out()"
      ],
      "metadata": {
        "colab": {
          "base_uri": "https://localhost:8080/"
        },
        "id": "ysLCNJmptbqh",
        "outputId": "0c3c6063-2b1e-4948-9b56-13c2e1c7ace5"
      },
      "execution_count": 20,
      "outputs": [
        {
          "output_type": "execute_result",
          "data": {
            "text/plain": [
              "array(['onehotencoder__Genero_Feminino',\n",
              "       'onehotencoder__Genero_Masculino',\n",
              "       'onehotencoder__Servico_Internet_DSL',\n",
              "       'onehotencoder__Servico_Internet_Fiber optic',\n",
              "       'onehotencoder__Servico_Internet_No',\n",
              "       'onehotencoder__Tipo_Contrato_Month-to-month',\n",
              "       'onehotencoder__Tipo_Contrato_One year',\n",
              "       'onehotencoder__Tipo_Contrato_Two year',\n",
              "       'onehotencoder__Forma_Pagto_Bank transfer',\n",
              "       'onehotencoder__Forma_Pagto_Credit card',\n",
              "       'onehotencoder__Forma_Pagto_Electronic check',\n",
              "       'onehotencoder__Forma_Pagto_Mailed check', 'remainder__Churn',\n",
              "       'remainder__Idoso', 'remainder__Casal', 'remainder__Dependentes',\n",
              "       'remainder__Tempo_Contrato', 'remainder__Servico_Telefone',\n",
              "       'remainder__Servico_MultiplasLinhas',\n",
              "       'remainder__Opt_OnlineSecurity', 'remainder__Opt_OnlineBackup',\n",
              "       'remainder__Opt_DeviceProtection', 'remainder__Opt_TechSupport',\n",
              "       'remainder__Opt_StreamingTV', 'remainder__Opt_StreamingMovies',\n",
              "       'remainder__FaturaOnline', 'remainder__Conta_Diarias'],\n",
              "      dtype=object)"
            ]
          },
          "metadata": {},
          "execution_count": 20
        }
      ]
    },
    {
      "cell_type": "code",
      "source": [
        "df_enc = pd.DataFrame(df_enc, columns=one_hot.get_feature_names_out()).copy()\n",
        "df_enc"
      ],
      "metadata": {
        "colab": {
          "base_uri": "https://localhost:8080/",
          "height": 461
        },
        "id": "7i1jE9dltd0F",
        "outputId": "c296285a-5157-4f7b-f9c5-27707385a480"
      },
      "execution_count": 23,
      "outputs": [
        {
          "output_type": "execute_result",
          "data": {
            "text/plain": [
              "      onehotencoder__Genero_Feminino  onehotencoder__Genero_Masculino  \\\n",
              "0                                1.0                              0.0   \n",
              "1                                0.0                              1.0   \n",
              "2                                0.0                              1.0   \n",
              "3                                0.0                              1.0   \n",
              "4                                1.0                              0.0   \n",
              "...                              ...                              ...   \n",
              "7027                             1.0                              0.0   \n",
              "7028                             0.0                              1.0   \n",
              "7029                             0.0                              1.0   \n",
              "7030                             0.0                              1.0   \n",
              "7031                             0.0                              1.0   \n",
              "\n",
              "      onehotencoder__Servico_Internet_DSL  \\\n",
              "0                                     1.0   \n",
              "1                                     1.0   \n",
              "2                                     0.0   \n",
              "3                                     0.0   \n",
              "4                                     0.0   \n",
              "...                                   ...   \n",
              "7027                                  1.0   \n",
              "7028                                  0.0   \n",
              "7029                                  1.0   \n",
              "7030                                  1.0   \n",
              "7031                                  1.0   \n",
              "\n",
              "      onehotencoder__Servico_Internet_Fiber optic  \\\n",
              "0                                             0.0   \n",
              "1                                             0.0   \n",
              "2                                             1.0   \n",
              "3                                             1.0   \n",
              "4                                             1.0   \n",
              "...                                           ...   \n",
              "7027                                          0.0   \n",
              "7028                                          1.0   \n",
              "7029                                          0.0   \n",
              "7030                                          0.0   \n",
              "7031                                          0.0   \n",
              "\n",
              "      onehotencoder__Servico_Internet_No  \\\n",
              "0                                    0.0   \n",
              "1                                    0.0   \n",
              "2                                    0.0   \n",
              "3                                    0.0   \n",
              "4                                    0.0   \n",
              "...                                  ...   \n",
              "7027                                 0.0   \n",
              "7028                                 0.0   \n",
              "7029                                 0.0   \n",
              "7030                                 0.0   \n",
              "7031                                 0.0   \n",
              "\n",
              "      onehotencoder__Tipo_Contrato_Month-to-month  \\\n",
              "0                                             0.0   \n",
              "1                                             1.0   \n",
              "2                                             1.0   \n",
              "3                                             1.0   \n",
              "4                                             1.0   \n",
              "...                                           ...   \n",
              "7027                                          0.0   \n",
              "7028                                          1.0   \n",
              "7029                                          1.0   \n",
              "7030                                          0.0   \n",
              "7031                                          0.0   \n",
              "\n",
              "      onehotencoder__Tipo_Contrato_One year  \\\n",
              "0                                       1.0   \n",
              "1                                       0.0   \n",
              "2                                       0.0   \n",
              "3                                       0.0   \n",
              "4                                       0.0   \n",
              "...                                     ...   \n",
              "7027                                    1.0   \n",
              "7028                                    0.0   \n",
              "7029                                    0.0   \n",
              "7030                                    0.0   \n",
              "7031                                    0.0   \n",
              "\n",
              "      onehotencoder__Tipo_Contrato_Two year  \\\n",
              "0                                       0.0   \n",
              "1                                       0.0   \n",
              "2                                       0.0   \n",
              "3                                       0.0   \n",
              "4                                       0.0   \n",
              "...                                     ...   \n",
              "7027                                    0.0   \n",
              "7028                                    0.0   \n",
              "7029                                    0.0   \n",
              "7030                                    1.0   \n",
              "7031                                    1.0   \n",
              "\n",
              "      onehotencoder__Forma_Pagto_Bank transfer  \\\n",
              "0                                          0.0   \n",
              "1                                          0.0   \n",
              "2                                          0.0   \n",
              "3                                          0.0   \n",
              "4                                          0.0   \n",
              "...                                        ...   \n",
              "7027                                       0.0   \n",
              "7028                                       0.0   \n",
              "7029                                       0.0   \n",
              "7030                                       0.0   \n",
              "7031                                       0.0   \n",
              "\n",
              "      onehotencoder__Forma_Pagto_Credit card  ...  \\\n",
              "0                                        0.0  ...   \n",
              "1                                        0.0  ...   \n",
              "2                                        0.0  ...   \n",
              "3                                        0.0  ...   \n",
              "4                                        0.0  ...   \n",
              "...                                      ...  ...   \n",
              "7027                                     0.0  ...   \n",
              "7028                                     0.0  ...   \n",
              "7029                                     0.0  ...   \n",
              "7030                                     0.0  ...   \n",
              "7031                                     0.0  ...   \n",
              "\n",
              "      remainder__Servico_Telefone  remainder__Servico_MultiplasLinhas  \\\n",
              "0                             1.0                                 0.0   \n",
              "1                             1.0                                 1.0   \n",
              "2                             1.0                                 0.0   \n",
              "3                             1.0                                 0.0   \n",
              "4                             1.0                                 0.0   \n",
              "...                           ...                                 ...   \n",
              "7027                          1.0                                 0.0   \n",
              "7028                          1.0                                 1.0   \n",
              "7029                          1.0                                 0.0   \n",
              "7030                          1.0                                 0.0   \n",
              "7031                          0.0                                 0.0   \n",
              "\n",
              "      remainder__Opt_OnlineSecurity  remainder__Opt_OnlineBackup  \\\n",
              "0                               0.0                          1.0   \n",
              "1                               0.0                          0.0   \n",
              "2                               0.0                          0.0   \n",
              "3                               0.0                          1.0   \n",
              "4                               0.0                          0.0   \n",
              "...                             ...                          ...   \n",
              "7027                            1.0                          0.0   \n",
              "7028                            0.0                          0.0   \n",
              "7029                            0.0                          1.0   \n",
              "7030                            1.0                          0.0   \n",
              "7031                            1.0                          1.0   \n",
              "\n",
              "      remainder__Opt_DeviceProtection  remainder__Opt_TechSupport  \\\n",
              "0                                 0.0                         1.0   \n",
              "1                                 0.0                         0.0   \n",
              "2                                 1.0                         0.0   \n",
              "3                                 1.0                         0.0   \n",
              "4                                 0.0                         1.0   \n",
              "...                               ...                         ...   \n",
              "7027                              0.0                         1.0   \n",
              "7028                              0.0                         0.0   \n",
              "7029                              0.0                         0.0   \n",
              "7030                              1.0                         1.0   \n",
              "7031                              1.0                         0.0   \n",
              "\n",
              "      remainder__Opt_StreamingTV  remainder__Opt_StreamingMovies  \\\n",
              "0                            1.0                             0.0   \n",
              "1                            0.0                             1.0   \n",
              "2                            0.0                             0.0   \n",
              "3                            1.0                             1.0   \n",
              "4                            1.0                             0.0   \n",
              "...                          ...                             ...   \n",
              "7027                         0.0                             0.0   \n",
              "7028                         0.0                             1.0   \n",
              "7029                         0.0                             0.0   \n",
              "7030                         0.0                             1.0   \n",
              "7031                         1.0                             1.0   \n",
              "\n",
              "      remainder__FaturaOnline  remainder__Conta_Diarias  \n",
              "0                         1.0                  2.186667  \n",
              "1                         0.0                  1.996667  \n",
              "2                         1.0                  2.463333  \n",
              "3                         1.0                  3.266667  \n",
              "4                         1.0                  2.796667  \n",
              "...                       ...                       ...  \n",
              "7027                      0.0                  1.838333  \n",
              "7028                      1.0                  2.836667  \n",
              "7029                      1.0                  1.676667  \n",
              "7030                      0.0                  2.261667  \n",
              "7031                      0.0                  1.966667  \n",
              "\n",
              "[7032 rows x 27 columns]"
            ],
            "text/html": [
              "\n",
              "  <div id=\"df-96fbed6a-3105-4ce8-b086-4c70bebf4337\" class=\"colab-df-container\">\n",
              "    <div>\n",
              "<style scoped>\n",
              "    .dataframe tbody tr th:only-of-type {\n",
              "        vertical-align: middle;\n",
              "    }\n",
              "\n",
              "    .dataframe tbody tr th {\n",
              "        vertical-align: top;\n",
              "    }\n",
              "\n",
              "    .dataframe thead th {\n",
              "        text-align: right;\n",
              "    }\n",
              "</style>\n",
              "<table border=\"1\" class=\"dataframe\">\n",
              "  <thead>\n",
              "    <tr style=\"text-align: right;\">\n",
              "      <th></th>\n",
              "      <th>onehotencoder__Genero_Feminino</th>\n",
              "      <th>onehotencoder__Genero_Masculino</th>\n",
              "      <th>onehotencoder__Servico_Internet_DSL</th>\n",
              "      <th>onehotencoder__Servico_Internet_Fiber optic</th>\n",
              "      <th>onehotencoder__Servico_Internet_No</th>\n",
              "      <th>onehotencoder__Tipo_Contrato_Month-to-month</th>\n",
              "      <th>onehotencoder__Tipo_Contrato_One year</th>\n",
              "      <th>onehotencoder__Tipo_Contrato_Two year</th>\n",
              "      <th>onehotencoder__Forma_Pagto_Bank transfer</th>\n",
              "      <th>onehotencoder__Forma_Pagto_Credit card</th>\n",
              "      <th>...</th>\n",
              "      <th>remainder__Servico_Telefone</th>\n",
              "      <th>remainder__Servico_MultiplasLinhas</th>\n",
              "      <th>remainder__Opt_OnlineSecurity</th>\n",
              "      <th>remainder__Opt_OnlineBackup</th>\n",
              "      <th>remainder__Opt_DeviceProtection</th>\n",
              "      <th>remainder__Opt_TechSupport</th>\n",
              "      <th>remainder__Opt_StreamingTV</th>\n",
              "      <th>remainder__Opt_StreamingMovies</th>\n",
              "      <th>remainder__FaturaOnline</th>\n",
              "      <th>remainder__Conta_Diarias</th>\n",
              "    </tr>\n",
              "  </thead>\n",
              "  <tbody>\n",
              "    <tr>\n",
              "      <th>0</th>\n",
              "      <td>1.0</td>\n",
              "      <td>0.0</td>\n",
              "      <td>1.0</td>\n",
              "      <td>0.0</td>\n",
              "      <td>0.0</td>\n",
              "      <td>0.0</td>\n",
              "      <td>1.0</td>\n",
              "      <td>0.0</td>\n",
              "      <td>0.0</td>\n",
              "      <td>0.0</td>\n",
              "      <td>...</td>\n",
              "      <td>1.0</td>\n",
              "      <td>0.0</td>\n",
              "      <td>0.0</td>\n",
              "      <td>1.0</td>\n",
              "      <td>0.0</td>\n",
              "      <td>1.0</td>\n",
              "      <td>1.0</td>\n",
              "      <td>0.0</td>\n",
              "      <td>1.0</td>\n",
              "      <td>2.186667</td>\n",
              "    </tr>\n",
              "    <tr>\n",
              "      <th>1</th>\n",
              "      <td>0.0</td>\n",
              "      <td>1.0</td>\n",
              "      <td>1.0</td>\n",
              "      <td>0.0</td>\n",
              "      <td>0.0</td>\n",
              "      <td>1.0</td>\n",
              "      <td>0.0</td>\n",
              "      <td>0.0</td>\n",
              "      <td>0.0</td>\n",
              "      <td>0.0</td>\n",
              "      <td>...</td>\n",
              "      <td>1.0</td>\n",
              "      <td>1.0</td>\n",
              "      <td>0.0</td>\n",
              "      <td>0.0</td>\n",
              "      <td>0.0</td>\n",
              "      <td>0.0</td>\n",
              "      <td>0.0</td>\n",
              "      <td>1.0</td>\n",
              "      <td>0.0</td>\n",
              "      <td>1.996667</td>\n",
              "    </tr>\n",
              "    <tr>\n",
              "      <th>2</th>\n",
              "      <td>0.0</td>\n",
              "      <td>1.0</td>\n",
              "      <td>0.0</td>\n",
              "      <td>1.0</td>\n",
              "      <td>0.0</td>\n",
              "      <td>1.0</td>\n",
              "      <td>0.0</td>\n",
              "      <td>0.0</td>\n",
              "      <td>0.0</td>\n",
              "      <td>0.0</td>\n",
              "      <td>...</td>\n",
              "      <td>1.0</td>\n",
              "      <td>0.0</td>\n",
              "      <td>0.0</td>\n",
              "      <td>0.0</td>\n",
              "      <td>1.0</td>\n",
              "      <td>0.0</td>\n",
              "      <td>0.0</td>\n",
              "      <td>0.0</td>\n",
              "      <td>1.0</td>\n",
              "      <td>2.463333</td>\n",
              "    </tr>\n",
              "    <tr>\n",
              "      <th>3</th>\n",
              "      <td>0.0</td>\n",
              "      <td>1.0</td>\n",
              "      <td>0.0</td>\n",
              "      <td>1.0</td>\n",
              "      <td>0.0</td>\n",
              "      <td>1.0</td>\n",
              "      <td>0.0</td>\n",
              "      <td>0.0</td>\n",
              "      <td>0.0</td>\n",
              "      <td>0.0</td>\n",
              "      <td>...</td>\n",
              "      <td>1.0</td>\n",
              "      <td>0.0</td>\n",
              "      <td>0.0</td>\n",
              "      <td>1.0</td>\n",
              "      <td>1.0</td>\n",
              "      <td>0.0</td>\n",
              "      <td>1.0</td>\n",
              "      <td>1.0</td>\n",
              "      <td>1.0</td>\n",
              "      <td>3.266667</td>\n",
              "    </tr>\n",
              "    <tr>\n",
              "      <th>4</th>\n",
              "      <td>1.0</td>\n",
              "      <td>0.0</td>\n",
              "      <td>0.0</td>\n",
              "      <td>1.0</td>\n",
              "      <td>0.0</td>\n",
              "      <td>1.0</td>\n",
              "      <td>0.0</td>\n",
              "      <td>0.0</td>\n",
              "      <td>0.0</td>\n",
              "      <td>0.0</td>\n",
              "      <td>...</td>\n",
              "      <td>1.0</td>\n",
              "      <td>0.0</td>\n",
              "      <td>0.0</td>\n",
              "      <td>0.0</td>\n",
              "      <td>0.0</td>\n",
              "      <td>1.0</td>\n",
              "      <td>1.0</td>\n",
              "      <td>0.0</td>\n",
              "      <td>1.0</td>\n",
              "      <td>2.796667</td>\n",
              "    </tr>\n",
              "    <tr>\n",
              "      <th>...</th>\n",
              "      <td>...</td>\n",
              "      <td>...</td>\n",
              "      <td>...</td>\n",
              "      <td>...</td>\n",
              "      <td>...</td>\n",
              "      <td>...</td>\n",
              "      <td>...</td>\n",
              "      <td>...</td>\n",
              "      <td>...</td>\n",
              "      <td>...</td>\n",
              "      <td>...</td>\n",
              "      <td>...</td>\n",
              "      <td>...</td>\n",
              "      <td>...</td>\n",
              "      <td>...</td>\n",
              "      <td>...</td>\n",
              "      <td>...</td>\n",
              "      <td>...</td>\n",
              "      <td>...</td>\n",
              "      <td>...</td>\n",
              "      <td>...</td>\n",
              "    </tr>\n",
              "    <tr>\n",
              "      <th>7027</th>\n",
              "      <td>1.0</td>\n",
              "      <td>0.0</td>\n",
              "      <td>1.0</td>\n",
              "      <td>0.0</td>\n",
              "      <td>0.0</td>\n",
              "      <td>0.0</td>\n",
              "      <td>1.0</td>\n",
              "      <td>0.0</td>\n",
              "      <td>0.0</td>\n",
              "      <td>0.0</td>\n",
              "      <td>...</td>\n",
              "      <td>1.0</td>\n",
              "      <td>0.0</td>\n",
              "      <td>1.0</td>\n",
              "      <td>0.0</td>\n",
              "      <td>0.0</td>\n",
              "      <td>1.0</td>\n",
              "      <td>0.0</td>\n",
              "      <td>0.0</td>\n",
              "      <td>0.0</td>\n",
              "      <td>1.838333</td>\n",
              "    </tr>\n",
              "    <tr>\n",
              "      <th>7028</th>\n",
              "      <td>0.0</td>\n",
              "      <td>1.0</td>\n",
              "      <td>0.0</td>\n",
              "      <td>1.0</td>\n",
              "      <td>0.0</td>\n",
              "      <td>1.0</td>\n",
              "      <td>0.0</td>\n",
              "      <td>0.0</td>\n",
              "      <td>0.0</td>\n",
              "      <td>0.0</td>\n",
              "      <td>...</td>\n",
              "      <td>1.0</td>\n",
              "      <td>1.0</td>\n",
              "      <td>0.0</td>\n",
              "      <td>0.0</td>\n",
              "      <td>0.0</td>\n",
              "      <td>0.0</td>\n",
              "      <td>0.0</td>\n",
              "      <td>1.0</td>\n",
              "      <td>1.0</td>\n",
              "      <td>2.836667</td>\n",
              "    </tr>\n",
              "    <tr>\n",
              "      <th>7029</th>\n",
              "      <td>0.0</td>\n",
              "      <td>1.0</td>\n",
              "      <td>1.0</td>\n",
              "      <td>0.0</td>\n",
              "      <td>0.0</td>\n",
              "      <td>1.0</td>\n",
              "      <td>0.0</td>\n",
              "      <td>0.0</td>\n",
              "      <td>0.0</td>\n",
              "      <td>0.0</td>\n",
              "      <td>...</td>\n",
              "      <td>1.0</td>\n",
              "      <td>0.0</td>\n",
              "      <td>0.0</td>\n",
              "      <td>1.0</td>\n",
              "      <td>0.0</td>\n",
              "      <td>0.0</td>\n",
              "      <td>0.0</td>\n",
              "      <td>0.0</td>\n",
              "      <td>1.0</td>\n",
              "      <td>1.676667</td>\n",
              "    </tr>\n",
              "    <tr>\n",
              "      <th>7030</th>\n",
              "      <td>0.0</td>\n",
              "      <td>1.0</td>\n",
              "      <td>1.0</td>\n",
              "      <td>0.0</td>\n",
              "      <td>0.0</td>\n",
              "      <td>0.0</td>\n",
              "      <td>0.0</td>\n",
              "      <td>1.0</td>\n",
              "      <td>0.0</td>\n",
              "      <td>0.0</td>\n",
              "      <td>...</td>\n",
              "      <td>1.0</td>\n",
              "      <td>0.0</td>\n",
              "      <td>1.0</td>\n",
              "      <td>0.0</td>\n",
              "      <td>1.0</td>\n",
              "      <td>1.0</td>\n",
              "      <td>0.0</td>\n",
              "      <td>1.0</td>\n",
              "      <td>0.0</td>\n",
              "      <td>2.261667</td>\n",
              "    </tr>\n",
              "    <tr>\n",
              "      <th>7031</th>\n",
              "      <td>0.0</td>\n",
              "      <td>1.0</td>\n",
              "      <td>1.0</td>\n",
              "      <td>0.0</td>\n",
              "      <td>0.0</td>\n",
              "      <td>0.0</td>\n",
              "      <td>0.0</td>\n",
              "      <td>1.0</td>\n",
              "      <td>0.0</td>\n",
              "      <td>0.0</td>\n",
              "      <td>...</td>\n",
              "      <td>0.0</td>\n",
              "      <td>0.0</td>\n",
              "      <td>1.0</td>\n",
              "      <td>1.0</td>\n",
              "      <td>1.0</td>\n",
              "      <td>0.0</td>\n",
              "      <td>1.0</td>\n",
              "      <td>1.0</td>\n",
              "      <td>0.0</td>\n",
              "      <td>1.966667</td>\n",
              "    </tr>\n",
              "  </tbody>\n",
              "</table>\n",
              "<p>7032 rows × 27 columns</p>\n",
              "</div>\n",
              "    <div class=\"colab-df-buttons\">\n",
              "\n",
              "  <div class=\"colab-df-container\">\n",
              "    <button class=\"colab-df-convert\" onclick=\"convertToInteractive('df-96fbed6a-3105-4ce8-b086-4c70bebf4337')\"\n",
              "            title=\"Convert this dataframe to an interactive table.\"\n",
              "            style=\"display:none;\">\n",
              "\n",
              "  <svg xmlns=\"http://www.w3.org/2000/svg\" height=\"24px\" viewBox=\"0 -960 960 960\">\n",
              "    <path d=\"M120-120v-720h720v720H120Zm60-500h600v-160H180v160Zm220 220h160v-160H400v160Zm0 220h160v-160H400v160ZM180-400h160v-160H180v160Zm440 0h160v-160H620v160ZM180-180h160v-160H180v160Zm440 0h160v-160H620v160Z\"/>\n",
              "  </svg>\n",
              "    </button>\n",
              "\n",
              "  <style>\n",
              "    .colab-df-container {\n",
              "      display:flex;\n",
              "      gap: 12px;\n",
              "    }\n",
              "\n",
              "    .colab-df-convert {\n",
              "      background-color: #E8F0FE;\n",
              "      border: none;\n",
              "      border-radius: 50%;\n",
              "      cursor: pointer;\n",
              "      display: none;\n",
              "      fill: #1967D2;\n",
              "      height: 32px;\n",
              "      padding: 0 0 0 0;\n",
              "      width: 32px;\n",
              "    }\n",
              "\n",
              "    .colab-df-convert:hover {\n",
              "      background-color: #E2EBFA;\n",
              "      box-shadow: 0px 1px 2px rgba(60, 64, 67, 0.3), 0px 1px 3px 1px rgba(60, 64, 67, 0.15);\n",
              "      fill: #174EA6;\n",
              "    }\n",
              "\n",
              "    .colab-df-buttons div {\n",
              "      margin-bottom: 4px;\n",
              "    }\n",
              "\n",
              "    [theme=dark] .colab-df-convert {\n",
              "      background-color: #3B4455;\n",
              "      fill: #D2E3FC;\n",
              "    }\n",
              "\n",
              "    [theme=dark] .colab-df-convert:hover {\n",
              "      background-color: #434B5C;\n",
              "      box-shadow: 0px 1px 3px 1px rgba(0, 0, 0, 0.15);\n",
              "      filter: drop-shadow(0px 1px 2px rgba(0, 0, 0, 0.3));\n",
              "      fill: #FFFFFF;\n",
              "    }\n",
              "  </style>\n",
              "\n",
              "    <script>\n",
              "      const buttonEl =\n",
              "        document.querySelector('#df-96fbed6a-3105-4ce8-b086-4c70bebf4337 button.colab-df-convert');\n",
              "      buttonEl.style.display =\n",
              "        google.colab.kernel.accessAllowed ? 'block' : 'none';\n",
              "\n",
              "      async function convertToInteractive(key) {\n",
              "        const element = document.querySelector('#df-96fbed6a-3105-4ce8-b086-4c70bebf4337');\n",
              "        const dataTable =\n",
              "          await google.colab.kernel.invokeFunction('convertToInteractive',\n",
              "                                                    [key], {});\n",
              "        if (!dataTable) return;\n",
              "\n",
              "        const docLinkHtml = 'Like what you see? Visit the ' +\n",
              "          '<a target=\"_blank\" href=https://colab.research.google.com/notebooks/data_table.ipynb>data table notebook</a>'\n",
              "          + ' to learn more about interactive tables.';\n",
              "        element.innerHTML = '';\n",
              "        dataTable['output_type'] = 'display_data';\n",
              "        await google.colab.output.renderOutput(dataTable, element);\n",
              "        const docLink = document.createElement('div');\n",
              "        docLink.innerHTML = docLinkHtml;\n",
              "        element.appendChild(docLink);\n",
              "      }\n",
              "    </script>\n",
              "  </div>\n",
              "\n",
              "\n",
              "    <div id=\"df-e9d3c46b-fb42-4364-9370-2597570fb76b\">\n",
              "      <button class=\"colab-df-quickchart\" onclick=\"quickchart('df-e9d3c46b-fb42-4364-9370-2597570fb76b')\"\n",
              "                title=\"Suggest charts\"\n",
              "                style=\"display:none;\">\n",
              "\n",
              "<svg xmlns=\"http://www.w3.org/2000/svg\" height=\"24px\"viewBox=\"0 0 24 24\"\n",
              "     width=\"24px\">\n",
              "    <g>\n",
              "        <path d=\"M19 3H5c-1.1 0-2 .9-2 2v14c0 1.1.9 2 2 2h14c1.1 0 2-.9 2-2V5c0-1.1-.9-2-2-2zM9 17H7v-7h2v7zm4 0h-2V7h2v10zm4 0h-2v-4h2v4z\"/>\n",
              "    </g>\n",
              "</svg>\n",
              "      </button>\n",
              "\n",
              "<style>\n",
              "  .colab-df-quickchart {\n",
              "      --bg-color: #E8F0FE;\n",
              "      --fill-color: #1967D2;\n",
              "      --hover-bg-color: #E2EBFA;\n",
              "      --hover-fill-color: #174EA6;\n",
              "      --disabled-fill-color: #AAA;\n",
              "      --disabled-bg-color: #DDD;\n",
              "  }\n",
              "\n",
              "  [theme=dark] .colab-df-quickchart {\n",
              "      --bg-color: #3B4455;\n",
              "      --fill-color: #D2E3FC;\n",
              "      --hover-bg-color: #434B5C;\n",
              "      --hover-fill-color: #FFFFFF;\n",
              "      --disabled-bg-color: #3B4455;\n",
              "      --disabled-fill-color: #666;\n",
              "  }\n",
              "\n",
              "  .colab-df-quickchart {\n",
              "    background-color: var(--bg-color);\n",
              "    border: none;\n",
              "    border-radius: 50%;\n",
              "    cursor: pointer;\n",
              "    display: none;\n",
              "    fill: var(--fill-color);\n",
              "    height: 32px;\n",
              "    padding: 0;\n",
              "    width: 32px;\n",
              "  }\n",
              "\n",
              "  .colab-df-quickchart:hover {\n",
              "    background-color: var(--hover-bg-color);\n",
              "    box-shadow: 0 1px 2px rgba(60, 64, 67, 0.3), 0 1px 3px 1px rgba(60, 64, 67, 0.15);\n",
              "    fill: var(--button-hover-fill-color);\n",
              "  }\n",
              "\n",
              "  .colab-df-quickchart-complete:disabled,\n",
              "  .colab-df-quickchart-complete:disabled:hover {\n",
              "    background-color: var(--disabled-bg-color);\n",
              "    fill: var(--disabled-fill-color);\n",
              "    box-shadow: none;\n",
              "  }\n",
              "\n",
              "  .colab-df-spinner {\n",
              "    border: 2px solid var(--fill-color);\n",
              "    border-color: transparent;\n",
              "    border-bottom-color: var(--fill-color);\n",
              "    animation:\n",
              "      spin 1s steps(1) infinite;\n",
              "  }\n",
              "\n",
              "  @keyframes spin {\n",
              "    0% {\n",
              "      border-color: transparent;\n",
              "      border-bottom-color: var(--fill-color);\n",
              "      border-left-color: var(--fill-color);\n",
              "    }\n",
              "    20% {\n",
              "      border-color: transparent;\n",
              "      border-left-color: var(--fill-color);\n",
              "      border-top-color: var(--fill-color);\n",
              "    }\n",
              "    30% {\n",
              "      border-color: transparent;\n",
              "      border-left-color: var(--fill-color);\n",
              "      border-top-color: var(--fill-color);\n",
              "      border-right-color: var(--fill-color);\n",
              "    }\n",
              "    40% {\n",
              "      border-color: transparent;\n",
              "      border-right-color: var(--fill-color);\n",
              "      border-top-color: var(--fill-color);\n",
              "    }\n",
              "    60% {\n",
              "      border-color: transparent;\n",
              "      border-right-color: var(--fill-color);\n",
              "    }\n",
              "    80% {\n",
              "      border-color: transparent;\n",
              "      border-right-color: var(--fill-color);\n",
              "      border-bottom-color: var(--fill-color);\n",
              "    }\n",
              "    90% {\n",
              "      border-color: transparent;\n",
              "      border-bottom-color: var(--fill-color);\n",
              "    }\n",
              "  }\n",
              "</style>\n",
              "\n",
              "      <script>\n",
              "        async function quickchart(key) {\n",
              "          const quickchartButtonEl =\n",
              "            document.querySelector('#' + key + ' button');\n",
              "          quickchartButtonEl.disabled = true;  // To prevent multiple clicks.\n",
              "          quickchartButtonEl.classList.add('colab-df-spinner');\n",
              "          try {\n",
              "            const charts = await google.colab.kernel.invokeFunction(\n",
              "                'suggestCharts', [key], {});\n",
              "          } catch (error) {\n",
              "            console.error('Error during call to suggestCharts:', error);\n",
              "          }\n",
              "          quickchartButtonEl.classList.remove('colab-df-spinner');\n",
              "          quickchartButtonEl.classList.add('colab-df-quickchart-complete');\n",
              "        }\n",
              "        (() => {\n",
              "          let quickchartButtonEl =\n",
              "            document.querySelector('#df-e9d3c46b-fb42-4364-9370-2597570fb76b button');\n",
              "          quickchartButtonEl.style.display =\n",
              "            google.colab.kernel.accessAllowed ? 'block' : 'none';\n",
              "        })();\n",
              "      </script>\n",
              "    </div>\n",
              "\n",
              "  <div id=\"id_aac716da-051a-43ab-9e83-90bfb95c8924\">\n",
              "    <style>\n",
              "      .colab-df-generate {\n",
              "        background-color: #E8F0FE;\n",
              "        border: none;\n",
              "        border-radius: 50%;\n",
              "        cursor: pointer;\n",
              "        display: none;\n",
              "        fill: #1967D2;\n",
              "        height: 32px;\n",
              "        padding: 0 0 0 0;\n",
              "        width: 32px;\n",
              "      }\n",
              "\n",
              "      .colab-df-generate:hover {\n",
              "        background-color: #E2EBFA;\n",
              "        box-shadow: 0px 1px 2px rgba(60, 64, 67, 0.3), 0px 1px 3px 1px rgba(60, 64, 67, 0.15);\n",
              "        fill: #174EA6;\n",
              "      }\n",
              "\n",
              "      [theme=dark] .colab-df-generate {\n",
              "        background-color: #3B4455;\n",
              "        fill: #D2E3FC;\n",
              "      }\n",
              "\n",
              "      [theme=dark] .colab-df-generate:hover {\n",
              "        background-color: #434B5C;\n",
              "        box-shadow: 0px 1px 3px 1px rgba(0, 0, 0, 0.15);\n",
              "        filter: drop-shadow(0px 1px 2px rgba(0, 0, 0, 0.3));\n",
              "        fill: #FFFFFF;\n",
              "      }\n",
              "    </style>\n",
              "    <button class=\"colab-df-generate\" onclick=\"generateWithVariable('df_enc')\"\n",
              "            title=\"Generate code using this dataframe.\"\n",
              "            style=\"display:none;\">\n",
              "\n",
              "  <svg xmlns=\"http://www.w3.org/2000/svg\" height=\"24px\"viewBox=\"0 0 24 24\"\n",
              "       width=\"24px\">\n",
              "    <path d=\"M7,19H8.4L18.45,9,17,7.55,7,17.6ZM5,21V16.75L18.45,3.32a2,2,0,0,1,2.83,0l1.4,1.43a1.91,1.91,0,0,1,.58,1.4,1.91,1.91,0,0,1-.58,1.4L9.25,21ZM18.45,9,17,7.55Zm-12,3A5.31,5.31,0,0,0,4.9,8.1,5.31,5.31,0,0,0,1,6.5,5.31,5.31,0,0,0,4.9,4.9,5.31,5.31,0,0,0,6.5,1,5.31,5.31,0,0,0,8.1,4.9,5.31,5.31,0,0,0,12,6.5,5.46,5.46,0,0,0,6.5,12Z\"/>\n",
              "  </svg>\n",
              "    </button>\n",
              "    <script>\n",
              "      (() => {\n",
              "      const buttonEl =\n",
              "        document.querySelector('#id_aac716da-051a-43ab-9e83-90bfb95c8924 button.colab-df-generate');\n",
              "      buttonEl.style.display =\n",
              "        google.colab.kernel.accessAllowed ? 'block' : 'none';\n",
              "\n",
              "      buttonEl.onclick = () => {\n",
              "        google.colab.notebook.generateWithVariable('df_enc');\n",
              "      }\n",
              "      })();\n",
              "    </script>\n",
              "  </div>\n",
              "\n",
              "    </div>\n",
              "  </div>\n"
            ],
            "application/vnd.google.colaboratory.intrinsic+json": {
              "type": "dataframe",
              "variable_name": "df_enc"
            }
          },
          "metadata": {},
          "execution_count": 23
        }
      ]
    },
    {
      "cell_type": "markdown",
      "source": [
        "### Separando o dataframe em Treino, Teste e Validação"
      ],
      "metadata": {
        "id": "8Jq8cn83x7aS"
      }
    },
    {
      "cell_type": "code",
      "source": [
        "X = df_enc.drop(columns=['remainder__'+col_alvo], axis=1)\n",
        "y = df_enc['remainder__'+col_alvo]\n",
        "\n",
        "print(X.shape)\n",
        "print(y.shape)"
      ],
      "metadata": {
        "colab": {
          "base_uri": "https://localhost:8080/"
        },
        "id": "ng0QYRMOtgZw",
        "outputId": "eedb849e-123c-49f0-97db-d89b7d3c859c"
      },
      "execution_count": 27,
      "outputs": [
        {
          "output_type": "stream",
          "name": "stdout",
          "text": [
            "(7032, 26)\n",
            "(7032,)\n"
          ]
        }
      ]
    },
    {
      "cell_type": "code",
      "source": [
        "X_train, X_test, y_train, y_test = train_test_split(X, y, random_state=42)"
      ],
      "metadata": {
        "id": "gHI52Xp5tmZO"
      },
      "execution_count": null,
      "outputs": []
    },
    {
      "cell_type": "markdown",
      "source": [
        "### Transformar colunas Numericas discretas"
      ],
      "metadata": {
        "id": "bUJro1JzxwH1"
      }
    },
    {
      "cell_type": "markdown",
      "source": [],
      "metadata": {
        "id": "HNybJlRh7vsL"
      }
    },
    {
      "cell_type": "markdown",
      "metadata": {
        "id": "6XnTC2NTmMRL"
      },
      "source": [
        "#📊 2. Realizar análise de correlação e seleção de variáveis."
      ]
    },
    {
      "cell_type": "code",
      "source": [],
      "metadata": {
        "id": "Sq7B0-jzpfdJ"
      },
      "execution_count": null,
      "outputs": []
    },
    {
      "cell_type": "markdown",
      "source": [
        "#🔧 3. Treinar dois ou mais modelos de classificação.\n"
      ],
      "metadata": {
        "id": "biL2T6Wfniqx"
      }
    },
    {
      "cell_type": "code",
      "source": [],
      "metadata": {
        "id": "X_C_tzDTpesY"
      },
      "execution_count": null,
      "outputs": []
    },
    {
      "cell_type": "markdown",
      "source": [
        "#📈 4. Avaliar o desempenho dos modelos com métricas."
      ],
      "metadata": {
        "id": "-TS5A9M2nofQ"
      }
    },
    {
      "cell_type": "code",
      "source": [],
      "metadata": {
        "id": "VUiDlCvcpd_V"
      },
      "execution_count": null,
      "outputs": []
    },
    {
      "cell_type": "markdown",
      "source": [
        "#🔎 5. Interpretar os resultados, incluindo a importância das variáveis."
      ],
      "metadata": {
        "id": "1OA-Ble7nuJJ"
      }
    },
    {
      "cell_type": "code",
      "source": [],
      "metadata": {
        "id": "sMoBu4daomY1"
      },
      "execution_count": null,
      "outputs": []
    },
    {
      "cell_type": "code",
      "source": [],
      "metadata": {
        "id": "W2MbI7zzpcal"
      },
      "execution_count": null,
      "outputs": []
    },
    {
      "cell_type": "markdown",
      "source": [
        "# 🎯 6. Conclusão:\n",
        "criar uma conclusão estratégica apontando os principais fatores que influenciam a evasão."
      ],
      "metadata": {
        "id": "omUNcjeInu8N"
      }
    },
    {
      "cell_type": "code",
      "source": [],
      "metadata": {
        "id": "g4m8Z2IloShX"
      },
      "execution_count": null,
      "outputs": []
    },
    {
      "cell_type": "markdown",
      "source": [
        "## Análise Descritiva"
      ],
      "metadata": {
        "id": "UIpuU7waSnbv"
      }
    },
    {
      "cell_type": "code",
      "source": [
        "df_ouro.describe()"
      ],
      "metadata": {
        "id": "FHIOuxm6SvJM"
      },
      "execution_count": null,
      "outputs": []
    },
    {
      "cell_type": "markdown",
      "source": [
        "Uma análise descritiva mais detalhada será realizada no BD Star Schema, que será criado a seguir"
      ],
      "metadata": {
        "id": "K5NBbwghTWKb"
      }
    },
    {
      "cell_type": "code",
      "source": [
        "#Analise Descritiva resumida:\n",
        "print(f'Clientes                  : {df_ouro.ID_Cliente.count()}')\n",
        "print(f'   -           Cancelados : {df_ouro.query(\"Churn == 1\").ID_Cliente.count()}')\n",
        "print(f'   -       Não Cancelados : {df_ouro.query(\"Churn == 0\").ID_Cliente.count()}')\n",
        "print(f'   -   Média cancelamento : {df_ouro.query(\"Churn == 1\").ID_Cliente.count()/df_ouro.ID_Cliente.count():.2%} ')\n",
        "print()\n",
        "print(f'Tempo de Contrato:')\n",
        "print(f'   -               Máximo : {df_ouro.Tempo_Contrato.max()} meses')\n",
        "print(f'   -               Mínimo : {df_ouro.Tempo_Contrato.min()} meses')\n",
        "print(f'   -                Médio : {df_ouro.Tempo_Contrato.mean():.2f} meses')\n",
        "print(f'   -        Desvio padrão : {df_ouro.Tempo_Contrato.std():.2f} meses')\n",
        "print(f'   -              Mediana : {df_ouro.Tempo_Contrato.median():.2f} meses')\n",
        "print()\n",
        "print(f'Conta Mensal:')\n",
        "print(f'   -               Máximo : R${df_ouro.Conta_Mensal.max():.2f}')\n",
        "print(f'   -               Mínimo : R${df_ouro.Conta_Mensal.min():.2f}')\n",
        "print(f'   -                Médio : R${df_ouro.Conta_Mensal.mean():.2f}')\n",
        "print(f'   -        Desvio padrão : R${df_ouro.Conta_Mensal.std():.2f}')\n",
        "print(f'   -              Mediana : R${df_ouro.Conta_Mensal.median():.2f}')\n",
        "print()\n",
        "print(f'Conta Total:')\n",
        "print(f'   -               Máximo : R${df_ouro.Conta_Total.max():.2f}')\n",
        "print(f'   -               Mínimo : R${df_ouro.Conta_Total.min():.2f}')\n",
        "print(f'   -                Médio : R${df_ouro.Conta_Total.mean():.2f}')\n",
        "print(f'   -        Desvio padrão : R${df_ouro.Conta_Total.std():.2f}')\n",
        "print(f'   -              Mediana : R${df_ouro.Conta_Total.median():.2f}')"
      ],
      "metadata": {
        "id": "6WUIxnbnS_iS"
      },
      "execution_count": null,
      "outputs": []
    },
    {
      "cell_type": "code",
      "source": [
        "#Analise Descritiva Perfil Clientes e Serviços:\n",
        "print(f'Clientes                  : {df_ouro.ID_Cliente.count()}')\n",
        "print(f'   -               Idosos : {df_ouro.Idoso.sum()} = {df_ouro.Idoso.sum()/df_ouro.ID_Cliente.count():.2%} ')\n",
        "print(f'   -               Casais : {df_ouro.Casal.sum()} = {df_ouro.Casal.sum()/df_ouro.ID_Cliente.count():.2%} ')\n",
        "print(f'   -      Com dependentes : {df_ouro.Dependentes.sum()} = {df_ouro.Dependentes.sum()/df_ouro.ID_Cliente.count():.2%} ')\n",
        "print()\n",
        "print(f'Serviços do Contrato:')\n",
        "print(f'   -             Telefone : {df_ouro.Servico_Telefone.sum()} = {df_ouro.Servico_Telefone.sum()/df_ouro.ID_Cliente.count():.2%} ')\n",
        "print(f'   -     Multiplas Linhas : {df_ouro.Servico_MultiplasLinhas.sum()} = {df_ouro.Servico_MultiplasLinhas.sum()/df_ouro.ID_Cliente.count():.2%} ')\n",
        "Internet_fo = df_ouro.query(\"Servico_Internet == 'Fiber optic'\").ID_Cliente.count()\n",
        "Internet_DSL = df_ouro.query(\"Servico_Internet == 'DSL'\").ID_Cliente.count()\n",
        "Internet_No = df_ouro.query(\"Servico_Internet == 'No'\").ID_Cliente.count()\n",
        "print(f'   -       Internet Fibra : {Internet_fo} = {Internet_fo/df_ouro.ID_Cliente.count():.2%} ')\n",
        "print(f'   -         Internet DSL : {Internet_DSL} = {Internet_DSL/df_ouro.ID_Cliente.count():.2%} ')\n",
        "print(f'   -         Sem Internet : {Internet_No} = {Internet_No/df_ouro.ID_Cliente.count():.2%} ')\n",
        "print()\n",
        "print(f'Opcionais do Contrato:')\n",
        "print(f'   -      Online Security : {df_ouro.Opt_OnlineSecurity.sum()} = {df_ouro.Opt_OnlineSecurity.sum()/df_ouro.ID_Cliente.count():.2%} ')\n",
        "print(f'   -    Device Protection : {df_ouro.Opt_DeviceProtection.sum()} = {df_ouro.Opt_DeviceProtection.sum()/df_ouro.ID_Cliente.count():.2%} ')\n",
        "print(f'   -         Tech Support : {df_ouro.Opt_TechSupport.sum()} = {df_ouro.Opt_TechSupport.sum()/df_ouro.ID_Cliente.count():.2%} ')\n",
        "print(f'   -         Streaming TV : {df_ouro.Opt_StreamingTV.sum()} = {df_ouro.Opt_StreamingTV.sum()/df_ouro.ID_Cliente.count():.2%} ')\n",
        "print(f'   -     Streaming Movies : {df_ouro.Opt_StreamingMovies.sum()} = {df_ouro.Opt_StreamingMovies.sum()/df_ouro.ID_Cliente.count():.2%} ')\n",
        "print(f'   -        Fatura Online : {df_ouro.Opt_TechSupport.sum()} = {df_ouro.FaturaOnline.sum()/df_ouro.ID_Cliente.count():.2%} ')\n",
        "print()\n",
        "print(f'Tipo do Contrato:')\n",
        "Tipo_m = df_ouro.query(\"Tipo_Contrato == 'Month-to-month'\").ID_Cliente.count()\n",
        "print(f'   -              Mensal : {Tipo_m} = {Tipo_m/df_ouro.ID_Cliente.count():.2%} ')\n",
        "Tipo_m = df_ouro.query(\"Tipo_Contrato == 'One year'\").ID_Cliente.count()\n",
        "print(f'   -               Anual : {Tipo_m} = {Tipo_m/df_ouro.ID_Cliente.count():.2%} ')\n",
        "Tipo_m = df_ouro.query(\"Tipo_Contrato == 'Two year'\").ID_Cliente.count()\n",
        "print(f'   -            Bi-Anual : {Tipo_m} = {Tipo_m/df_ouro.ID_Cliente.count():.2%} ')\n",
        "print()\n",
        "print(f'Forma de Pagamento:')\n",
        "pgto = df_ouro.query(\"Forma_Pagto == 'Electronic check'\").ID_Cliente.count()\n",
        "print(f'   -     Electronic check : {pgto} = {pgto/df_ouro.ID_Cliente.count():.2%} ')\n",
        "pgto = df_ouro.query(\"Forma_Pagto == 'Mailed check'\").ID_Cliente.count()\n",
        "print(f'   -         Mailed check : {pgto} = {pgto/df_ouro.ID_Cliente.count():.2%} ')\n",
        "pgto = df_ouro.query(\"Forma_Pagto == 'Bank transfer (automatic)'\").ID_Cliente.count()\n",
        "print(f'   - Bank transfer (auto) : {pgto} = {pgto/df_ouro.ID_Cliente.count():.2%} ')\n",
        "pgto = df_ouro.query(\"Forma_Pagto == 'Credit card (automatic)'\").ID_Cliente.count()\n",
        "print(f'   -   Credit card (auto) : {pgto} = {pgto/df_ouro.ID_Cliente.count():.2%} ')"
      ],
      "metadata": {
        "id": "43czUGGy7VJ1"
      },
      "execution_count": null,
      "outputs": []
    },
    {
      "cell_type": "markdown",
      "metadata": {
        "id": "v-WzfSvTmaw9"
      },
      "source": [
        "#📄Relatorio Final"
      ]
    },
    {
      "cell_type": "markdown",
      "metadata": {
        "id": "a68e83d3"
      },
      "source": [
        "# Relatório Final - Análise de Evasão de Clientes Telecom X\n",
        "\n",
        "## Introdução\n",
        "\n",
        "Este relatório apresenta uma análise exploratória dos dados de clientes da Telecom X com o objetivo de identificar os fatores que contribuem para a evasão de clientes (Churn). A empresa busca entender o comportamento dos clientes que cancelam seus serviços para desenvolver estratégias eficazes de retenção.\n",
        "\n",
        "## Limpeza e Tratamento de Dados\n",
        "\n",
        "Os dados foram extraídos de uma fonte JSON e processados utilizando a arquitetura Medalhão, dividindo o trabalho em três camadas:\n",
        "\n",
        "- **Camada Bronze:** Os dados brutos foram carregados diretamente do arquivo JSON.\n",
        "- **Camada Prata:** Nesta camada, os dados foram limpos e transformados. As colunas com informações aninhadas em formato JSON foram normalizadas. Valores inconsistentes na coluna `Charges.Total` foram tratados, e a coluna foi convertida para o tipo numérico correto. Clientes com `tenure` igual a zero foram removidos, pois não forneciam informações relevantes para a análise de churn. Colunas binárias ('Yes'/'No' ou similares) foram convertidas para 1 e 0 para facilitar a análise numérica. Colunas categóricas como 'gender', 'Contract', 'PaymentMethod', e 'InternetService' foram convertidas para o tipo 'category' do pandas. Uma nova coluna `Contas_Diarias` foi criada calculando o gasto diário. As colunas foram traduzidas para o português e renomeadas para melhor compreensão.\n",
        "- **Camada Ouro:** Os dados limpos e transformados da camada Prata foram carregados e estruturados em um esquema estrela utilizando DuckDB para facilitar a análise e consulta. Foram criadas as tabelas dim_clientes, dim_tipos_servicos, fato_servicos_clientes, dim_contratos e fato_gastos.\n",
        "\n",
        "## Análise Exploratória de Dados (EDA)\n",
        "\n",
        "Nesta seção, foram realizadas diversas análises para identificar padrões e tendências nos dados:\n",
        "\n",
        "### Análise Descritiva\n",
        "\n",
        "Foram apresentadas estatísticas descritivas gerais sobre o volume de clientes, taxa de churn, tempo de contrato e valores de contas mensais e totais."
      ]
    },
    {
      "cell_type": "code",
      "metadata": {
        "id": "69c6e541"
      },
      "source": [
        "#Analise Descritiva resumida:\n",
        "print(f'Clientes                  : {df_ouro.ID_Cliente.count()}')\n",
        "print(f'   -           Cancelados : {df_ouro.query(\"Churn == 1\").ID_Cliente.count()}')\n",
        "print(f'   -       Não Cancelados : {df_ouro.query(\"Churn == 0\").ID_Cliente.count()}')\n",
        "print(f'   -   Média cancelamento : {df_ouro.query(\"Churn == 1\").ID_Cliente.count()/df_ouro.ID_Cliente.count():.2%} ')\n",
        "print()\n",
        "print(f'Tempo de Contrato:')\n",
        "print(f'   -               Máximo : {df_ouro.Tempo_Contrato.max()} meses')\n",
        "print(f'   -               Mínimo : {df_ouro.Tempo_Contrato.min()} meses')\n",
        "print(f'   -                Médio : {df_ouro.Tempo_Contrato.mean():.2f} meses')\n",
        "print(f'   -        Desvio padrão : {df_ouro.Tempo_Contrato.std():.2f} meses')\n",
        "print(f'   -              Mediana : {df_ouro.Tempo_Contrato.median():.2f} meses')\n",
        "print()\n",
        "print(f'Conta Mensal:')\n",
        "print(f'   -               Máximo : R${df_ouro.Conta_Mensal.max():.2f}')\n",
        "print(f'   -               Mínimo : R${df_ouro.Conta_Mensal.min():.2f}')\n",
        "print(f'   -                Médio : R${df_ouro.Conta_Mensal.mean():.2f}')\n",
        "print(f'   -        Desvio padrão : R${df_ouro.Conta_Mensal.std():.2f}')\n",
        "print(f'   -              Mediana : R${df_ouro.Conta_Mensal.median():.2f}')\n",
        "print()\n",
        "print(f'Conta Total:')\n",
        "print(f'   -               Máximo : R${df_ouro.Conta_Total.max():.2f}')\n",
        "print(f'   -               Mínimo : R${df_ouro.Conta_Total.min():.2f}')\n",
        "print(f'   -                Médio : R${df_ouro.Conta_Total.mean():.2f}')\n",
        "print(f'   -        Desvio padrão : R${df_ouro.Conta_Total.std():.2f}')\n",
        "print(f'   -              Mediana : R${df_ouro.Conta_Total.median():.2f}')"
      ],
      "execution_count": null,
      "outputs": []
    },
    {
      "cell_type": "markdown",
      "metadata": {
        "id": "8dae3aef"
      },
      "source": [
        "### Análise de Perfil dos Clientes\n",
        "\n",
        "Foram analisados os perfis dos clientes em relação a gênero, faixa etária (idoso/não idoso), estado civil (casal/solteiro) e dependentes."
      ]
    },
    {
      "cell_type": "code",
      "metadata": {
        "id": "42548845"
      },
      "source": [
        "with plt.style.context('seaborn-v0_8-dark'):\n",
        "  max_y = 1800\n",
        "  cores = sns.color_palette(\"dark\")\n",
        "  fig, ax = plt.subplots(figsize=(10,6))\n",
        "  fig.suptitle('Perfil dos Clientes')\n",
        "  bars = ax.barh(df_perfil['Perfil'], df_perfil['Qde_Clientes'], color=cores)\n",
        "\n",
        "  for i, bar in enumerate(bars):\n",
        "      width = bar.get_width()\n",
        "      percentage = df_perfil['Perc_Clientes'].iloc[i]\n",
        "      ax.text(width + 50, bar.get_y() + bar.get_height() / 2,\n",
        "              f'{percentage:.2f}%', ha='left', va='center', fontsize=10)\n",
        "\n",
        "  ax.set_xlim(0, max_y)\n",
        "  plt.savefig('data/Images/perfil_clientes.png')\n",
        "  plt.show()"
      ],
      "execution_count": null,
      "outputs": []
    },
    {
      "cell_type": "code",
      "metadata": {
        "id": "e39a50d2"
      },
      "source": [
        "with plt.style.context('seaborn-v0_8-dark'):\n",
        "  max_y = 7500\n",
        "  cores = sns.color_palette(\"dark\")\n",
        "  fig, axs = plt.subplots(2,2,figsize=(10,6))\n",
        "  fig.suptitle('Perfil dos Clientes')\n",
        "\n",
        "  df_genero_plot = ouro_perfil_Cliente.groupby('Genero', observed=True)['Qde_Clientes'].sum().reset_index()\n",
        "  bars = axs[0,0].bar(df_genero_plot['Genero'], df_genero_plot['Qde_Clientes'], label='Genero', color = cores)\n",
        "  for bar in bars:\n",
        "    yval = bar.get_height()\n",
        "    axs[0,0].text(bar.get_x() + bar.get_width()/2, yval, round(yval, 2), ha='center', va='bottom')\n",
        "  axs[0,0].set_title('Clientes por Genero')\n",
        "  axs[0,0].set_ylim(0,max_y)\n",
        "\n",
        "  df_idoso_plot = ouro_perfil_Cliente.groupby('Idoso', observed=True)['Qde_Clientes'].sum().reset_index()\n",
        "  bars = axs[0,1].bar(df_idoso_plot['Idoso'], df_idoso_plot['Qde_Clientes'], label='Idoso', color = cores)\n",
        "  for bar in bars:\n",
        "    yval = bar.get_height()\n",
        "    axs[0,1].text(bar.get_x() + bar.get_width()/2, yval, round(yval, 2), ha='center', va='bottom')\n",
        "  axs[0,1].set_title('Clientes por Faixa Etaria')\n",
        "  axs[0,1].set_ylim(0,max_y)\n",
        "\n",
        "  df_casado_plot = ouro_perfil_Cliente.groupby('Casal', observed=True)['Qde_Clientes'].sum().reset_index()\n",
        "  bars = axs[1,0].bar(df_casado_plot['Casal'], df_casado_plot['Qde_Clientes'], label='Casado', color = cores)\n",
        "  for bar in bars:\n",
        "    yval = bar.get_height()\n",
        "    axs[1,0].text(bar.get_x() + bar.get_width()/2, yval, round(yval, 2), ha='center', va='bottom')\n",
        "  axs[1,0].set_title('Clientes por Estado Civil')\n",
        "  axs[1,0].set_ylim(0,max_y)\n",
        "\n",
        "  df_dependente_plot = ouro_perfil_Cliente.groupby('Dependentes', observed=True)['Qde_Clientes'].sum().reset_index()\n",
        "  bars = axs[1,1].bar(df_dependente_plot['Dependentes'], df_dependente_plot['Qde_Clientes'], label='Dependentes', color = cores)\n",
        "  for bar in bars:\n",
        "    yval = bar.get_height()\n",
        "    axs[1,1].text(bar.get_x() + bar.get_width()/2, yval, round(yval, 2), ha='center', va='bottom')\n",
        "  axs[1,1].set_title('Clientes com Dependentes')\n",
        "  axs[1,1].set_ylim(0,max_y)\n",
        "  plt.savefig('data/Images/perfil_clientes2.png')\n",
        "  plt.show()"
      ],
      "execution_count": null,
      "outputs": []
    },
    {
      "cell_type": "markdown",
      "metadata": {
        "id": "09d23d5a"
      },
      "source": [
        "### Análise de Gastos por Atributos dos Clientes\n",
        "\n",
        "A análise dos gastos médios por diferentes atributos dos clientes revelou insights sobre o comportamento de consumo."
      ]
    },
    {
      "cell_type": "code",
      "metadata": {
        "id": "fbac4bc8"
      },
      "source": [
        "with plt.style.context('seaborn-v0_8-dark'):\n",
        "  max_y = 100\n",
        "  cores = sns.color_palette(\"dark\")\n",
        "  fig, axs = plt.subplots(2,2,figsize=(10,6))\n",
        "  fig.suptitle('Média de Gastos Mensais por Atributos dos Clientes')\n",
        "\n",
        "  df_genero_plot = ouro_Gasto_Cliente.groupby('Genero', observed=True)['Media_Gasto_Mes'].mean().reset_index()\n",
        "  bars = axs[0,0].bar(df_genero_plot['Genero'], df_genero_plot['Media_Gasto_Mes'], label='Genero', color = cores)\n",
        "  for bar in bars:\n",
        "    yval = bar.get_height()\n",
        "    axs[0,0].text(bar.get_x() + bar.get_width()/2, yval, round(yval, 2), ha='center', va='bottom')\n",
        "  axs[0,0].set_title('Média por Genero')\n",
        "  axs[0,0].set_ylim(0,max_y)\n",
        "\n",
        "  df_idoso_plot = ouro_Gasto_Cliente.groupby('Idoso', observed=True)['Media_Gasto_Mes'].mean().reset_index()\n",
        "  bars = axs[0,1].bar(df_idoso_plot['Idoso'], df_idoso_plot['Media_Gasto_Mes'], label='Idoso', color = cores)\n",
        "  for bar in bars:\n",
        "    yval = bar.get_height()\n",
        "    axs[0,1].text(bar.get_x() + bar.get_width()/2, yval, round(yval, 2), ha='center', va='bottom')\n",
        "  axs[0,1].set_title('Média por Faixa Etária')\n",
        "  axs[0,1].set_ylim(0,max_y)\n",
        "\n",
        "  df_casado_plot = ouro_Gasto_Cliente.groupby('Casal', observed=True)['Media_Gasto_Mes'].mean().reset_index()\n",
        "  bars = axs[1,0].bar(df_casado_plot['Casal'], df_casado_plot['Media_Gasto_Mes'], label='Idoso', color = cores)\n",
        "  for bar in bars:\n",
        "    yval = bar.get_height()\n",
        "    axs[1,0].text(bar.get_x() + bar.get_width()/2, yval, round(yval, 2), ha='center', va='bottom')\n",
        "  axs[1,0].set_title('Média por Parceiros')\n",
        "  axs[1,0].set_ylim(0,max_y)\n",
        "\n",
        "  df_dependente_plot = ouro_Gasto_Cliente.groupby('Dependentes', observed=True)['Media_Gasto_Mes'].mean().reset_index()\n",
        "  bars = axs[1,1].bar(df_dependente_plot['Dependentes'], df_dependente_plot['Media_Gasto_Mes'], label='Idoso', color = cores)\n",
        "  for bar in bars:\n",
        "    yval = bar.get_height()\n",
        "    axs[1,1].text(bar.get_x() + bar.get_width()/2, yval, round(yval, 2), ha='center', va='bottom')\n",
        "  axs[1,1].set_title('Média por Dependentes')\n",
        "  axs[1,1].set_ylim(0,max_y)\n",
        "  plt.savefig('data/Images/Gastos_Mensais_Atributos_clientes.png')\n",
        "  plt.show()"
      ],
      "execution_count": null,
      "outputs": []
    },
    {
      "cell_type": "markdown",
      "metadata": {
        "id": "fe5f7156"
      },
      "source": [
        "### Análise de Churn e Gastos por Atributos dos Contratos\n",
        "\n",
        "A análise do churn e dos gastos em relação aos atributos dos contratos, como tipo de contrato, fatura online e forma de pagamento, forneceu informações sobre quais características contratuais estão mais associadas à evasão e aos gastos dos clientes."
      ]
    },
    {
      "cell_type": "code",
      "metadata": {
        "id": "d7e573cb"
      },
      "source": [
        "titulo = 'Clientes Ativos e Evadidos por Atributos do Contrato'\n",
        "col_valores = 'Qde_Clientes'\n",
        "col_pivot = ['','Tipo_Contrato','Fatura','Forma_Pagto']\n",
        "col_grupos = 'Evasao'\n",
        "titulos_axes = ['Evasao','Tipo de Contrato','Tipo de Fatura','Forma de Pagto']\n",
        "legendas = ['Quantidade de Clientes','Quantidade de Clientes','Quantidade de Clientes','Quantidade de Clientes',\n",
        "             '','','','']\n",
        "lim_y = [ 5500, 5000, 5000, 5000]\n",
        "\n",
        "df_graf= [pd.DataFrame() for _ in range(4)]\n",
        "\n",
        "df_graf[0]  = ouro_Gasto_Contratos.groupby(col_grupos)[col_valores].sum().reset_index()\n",
        "for i in range(1,4):\n",
        "  df_graf[i] = pd.pivot_table(data=ouro_Gasto_Contratos, values=col_valores, index=col_grupos,columns= col_pivot[i], aggfunc='sum', fill_value=0, observed=True).reset_index()\n",
        "\n",
        "graficos_atributos2(df_graf, titulos_axes, legendas, titulo, lim_y,'data/Images/Evadidos_Atributos_Contrato.png')"
      ],
      "execution_count": null,
      "outputs": []
    },
    {
      "cell_type": "code",
      "metadata": {
        "id": "f8c530bd"
      },
      "source": [
        "titulo = 'Gastos Médios de Clientes Ativos e Evadidos por Atributos do Contrato'\n",
        "col_valores = 'Media_Gasto_Mes'\n",
        "col_pivot = ['','Tipo_Contrato','Fatura','Forma_Pagto']\n",
        "col_grupos = 'Evasao'\n",
        "titulos_axes = ['Evasao','Tipo de Contrato','Tipo de Fatura','Forma de Pagto']\n",
        "legendas = ['Média Gastos/Mês','Média Gastos/Mês','Média Gastos/Mês','Média Gastos/Mês',\n",
        "             '','','','']\n",
        "lim_y = [ 150, 150, 150, 150]\n",
        "\n",
        "df_graf= [pd.DataFrame() for _ in range(4)]\n",
        "\n",
        "df_graf[0]  = ouro_Gasto_Contratos.groupby(col_grupos)[col_valores].mean().reset_index()\n",
        "for i in range(1,4):\n",
        "  df_graf[i] = pd.pivot_table(data=ouro_Gasto_Contratos, values=col_valores, index=col_grupos,columns= col_pivot[i], aggfunc='mean', fill_value=0, observed=True).reset_index()\n",
        "\n",
        "graficos_atributos2(df_graf, titulos_axes, legendas, titulo, lim_y,'data/Images/Gastos_Evadidos_Atributos_Contrato.png')"
      ],
      "execution_count": null,
      "outputs": []
    },
    {
      "cell_type": "markdown",
      "metadata": {
        "id": "22922027"
      },
      "source": [
        "### Análise de Churn por Atributos dos Serviços\n",
        "\n",
        "A análise do churn em relação aos serviços contratados e opcionais ajudou a identificar quais serviços podem estar mais relacionados à evasão."
      ]
    },
    {
      "cell_type": "code",
      "metadata": {
        "id": "ada77795"
      },
      "source": [
        "titulo = 'Clientes Ativos e Evadidos por Opcionais do Contrato'\n",
        "col_servicos = [ 'OnlineBackup', 'DeviceProtection', 'TechSupport', 'StreamingTV', 'StreamingMovies']\n",
        "col_grupos = ['Servico_Telefone','Servico_MultiplasLinhas','Internet_DSL','Internet_Fibra']\n",
        "titulos_ax = ['Servico de Telefone','Servico de Multiplas Linhas','Internet DSL','Internet Fibra']\n",
        "legendas = ['Contagem de Clientes','Contagem de Clientes','Contagem de Clientes','Contagem de Clientes',\n",
        "             '','','','']\n",
        "tamanho_barras = 0.15\n",
        "df_graf= [pd.DataFrame() for _ in range(4)]\n",
        "for i in range(4):\n",
        "  df_graf[i] = ouro_Gasto_Servicos.query(col_grupos[i]).groupby('Evasao')[col_servicos].sum().reset_index()\n",
        "\n",
        "\n",
        "graficos_atributos(df_graf, col_servicos,['Evasao','Evasao','Evasao','Evasao'], titulos_ax, legendas, tamanho_barras, titulo, 1000,'data/Images/Evadidos_Opcionais_Contrato.png')"
      ],
      "execution_count": null,
      "outputs": []
    },
    {
      "cell_type": "markdown",
      "metadata": {
        "id": "e2be6883"
      },
      "source": [
        "### Análise de Churn por Atributos dos Clientes\n",
        "\n",
        "A análise do churn em relação aos atributos de perfil dos clientes (gênero, idade, estado civil, dependentes) ajudou a entender se certos grupos demográficos apresentam maior tendência a cancelar."
      ]
    },
    {
      "cell_type": "code",
      "metadata": {
        "id": "1d4d2f91"
      },
      "source": [
        "titulo = 'Análise de Churn por atributos dos clientes'\n",
        "col_valores = 'Qde_Clientes'\n",
        "col_pivot = ['Genero','Idoso','Casal','Dependentes']\n",
        "col_grupos =  'Evasao'\n",
        "titulos_axes = ['Genero','Idoso','Casal','Dependentes']\n",
        "legendas = ['Contagem de Clientes','Contagem de Clientes','Contagem de Clientes','Contagem de Clientes',\n",
        "             '','','','']\n",
        "lim_y = [ 5000, 5000, 5000, 5000]\n",
        "\n",
        "df_graf= [pd.DataFrame() for _ in range(4)]\n",
        "\n",
        "\n",
        "for i in range(4):\n",
        "  df_graf[i] = pd.pivot_table(data=ouro_Churn_Cliente, values=col_valores, index=col_pivot[i],columns=col_grupos , aggfunc='sum', fill_value=0, observed=True).reset_index()\n",
        "\n",
        "graficos_atributos2(df_graf, titulos_axes, legendas, titulo, lim_y,'data/Images/perfil_clientes3.png')\n"
      ],
      "execution_count": null,
      "outputs": []
    },
    {
      "cell_type": "markdown",
      "metadata": {
        "id": "f9d9400b"
      },
      "source": [
        "### Contagem de Evasão por Variáveis Numéricas\n",
        "\n",
        "A análise da distribuição de variáveis numéricas, como tempo de contrato e gastos, entre clientes evadidos e ativos, ajudou a identificar possíveis limiares ou padrões associados ao churn."
      ]
    },
    {
      "cell_type": "code",
      "metadata": {
        "id": "8d5848e1"
      },
      "source": [
        "with plt.style.context('seaborn-v0_8-dark'):\n",
        "  max_y = 1800\n",
        "  cores = sns.color_palette(\"dark\")\n",
        "  fig, ax = plt.subplots(figsize=(10,6))\n",
        "  fig.suptitle('Perfil dos Clientes')\n",
        "  sns.scatterplot(data=ouro_Evasao_Conta, x=\"Tempo_Contrato\", y=\"Conta_Total\", hue=\"Evasao\", style=\"Evasao\")\n",
        "  plt.savefig('data/Images/Scatterplot_Tempo_Contrato_Evasao.png')\n",
        "  plt.show()"
      ],
      "execution_count": null,
      "outputs": []
    },
    {
      "cell_type": "code",
      "metadata": {
        "id": "a4a4a702"
      },
      "source": [
        "with plt.style.context('seaborn-v0_8-dark'):\n",
        "  max_y = 1800\n",
        "  cores = sns.color_palette(\"dark\")\n",
        "  sns.displot(data=ouro_Evasao_Tempo_Contrato, x=\"Tempo_Contrato\", hue=\"Evasao\", kind='kde')\n",
        "  plt.savefig('data/Images/KDEplot_Tempo_Contrato_Evasao.png')\n",
        "\n",
        "  plt.show()"
      ],
      "execution_count": null,
      "outputs": []
    },
    {
      "cell_type": "code",
      "metadata": {
        "id": "531d0781"
      },
      "source": [
        "with plt.style.context('seaborn-v0_8-dark'):\n",
        "  max_y = 1800\n",
        "  cores = sns.color_palette(\"dark\")\n",
        "  sns.displot(data=ouro_Evasao_Conta_Mensal, x=\"Conta Mensal\", hue=\"Evasao\", kind='kde')\n",
        "  plt.savefig('data/Images/KDEplot_Conta_Mensal_Evasao.png')\n",
        "  plt.show()"
      ],
      "execution_count": null,
      "outputs": []
    },
    {
      "cell_type": "code",
      "metadata": {
        "id": "fc8e3392"
      },
      "source": [
        "with plt.style.context('seaborn-v0_8-dark'):\n",
        "  max_y = 1800\n",
        "  cores = sns.color_palette(\"dark\")\n",
        "  sns.displot(data=ouro_Evasao_Conta_Diaria, x=\"Conta Diaria\", hue=\"Evasao\", kind='kde')\n",
        "  plt.savefig('data/Images/KDEplot_Conta_Diaria_Evasao.png')\n",
        "  plt.show()"
      ],
      "execution_count": null,
      "outputs": []
    },
    {
      "cell_type": "markdown",
      "metadata": {
        "id": "0673dc41"
      },
      "source": [
        "## Conclusões e Insights\n",
        "\n",
        "Com base na análise exploratória, podemos destacar os seguintes insights:\n",
        "\n",
        "- Clientes com contratos de menor duração (mês a mês) apresentam uma taxa de churn significativamente maior.\n",
        "- Clientes que utilizam a forma de pagamento \"Electronic check\" têm uma maior proporção de churn.\n",
        "- Clientes com Internet Fibra Óptica parecem ter uma taxa de churn maior em comparação com outros tipos de serviço de internet.\n",
        "- A ausência de serviços opcionais como Online Security, Online Backup, Device Protection e Tech Support parece estar associada a uma maior probabilidade de churn.\n",
        "- Clientes com maior tempo de contrato e maiores gastos totais tendem a apresentar menor taxa de churn.\n",
        "\n",
        "## Recomendações\n",
        "\n",
        "Com base nos insights obtidos, sugerimos as seguintes recomendações para a Telecom X:\n",
        "\n",
        "- Desenvolver programas de fidelidade e incentivos para clientes com contratos de menor duração, visando a renovação para contratos mais longos.\n",
        "- Investigar possíveis problemas ou insatisfações associadas à forma de pagamento \"Electronic check\" e oferecer alternativas ou melhorias no processo.\n",
        "- Avaliar a qualidade do serviço de Internet Fibra Óptica e a satisfação dos clientes, buscando identificar e solucionar possíveis problemas que possam estar levando ao churn.\n",
        "- Promover os serviços opcionais de segurança e suporte técnico para os clientes, destacando os benefícios e o valor agregado para reduzir a probabilidade de churn.\n",
        "- Implementar estratégias de retenção direcionadas a clientes com menor tempo de contrato, oferecendo suporte proativo e benefícios exclusivos.\n",
        "\n",
        "Essas recomendações podem servir como ponto de partida para a equipe de Data Science desenvolver modelos preditivos mais precisos e implementar estratégias de retenção mais eficazes."
      ]
    },
    {
      "cell_type": "markdown",
      "metadata": {
        "id": "234357a7"
      },
      "source": [
        "# Análise de Evasão de Clientes (Churn) - Telecom X\n",
        "\n",
        "## Introdução\n",
        "\n",
        "Este projeto tem como objetivo analisar o fenômeno de evasão de clientes (Churn) na empresa Telecom X. O alto índice de cancelamentos representa um desafio significativo para a empresa, impactando diretamente a receita e o crescimento. Através da coleta, tratamento e análise exploratória dos dados, buscamos identificar os principais fatores que levam os clientes a cancelar seus serviços, fornecendo insights valiosos para a equipe de Data Science desenvolver modelos preditivos e estratégias de retenção eficazes."
      ]
    },
    {
      "cell_type": "markdown",
      "metadata": {
        "id": "d3a54063"
      },
      "source": [
        "## Detalhes do Projeto e Tecnologias Utilizadas\n",
        "\n",
        "Este projeto seguiu a **Arquitetura Medalhão** para garantir a organização e a qualidade dos dados durante o processo de ETL (Extração, Transformação e Carga). A arquitetura é dividida em três camadas:\n",
        "\n",
        "- **Camada Bronze:** Armazena os dados brutos, conforme recebidos da fonte.\n",
        "- **Camada Prata:** Os dados são limpos, transformados e enriquecidos nesta camada.\n",
        "- **Camada Ouro:** Os dados são refinados e otimizados para análise e tomada de decisões, estruturados em um esquema estrela.\n",
        "\n",
        "As principais tecnologias e bibliotecas utilizadas neste projeto incluem:\n",
        "\n",
        "- **Python:** Linguagem de programação principal.\n",
        "- **Pandas:** Para manipulação e análise de dados.\n",
        "- **NumPy:** Para operações numéricas.\n",
        "- **Matplotlib e Seaborn:** Para visualização de dados.\n",
        "- **Requests e JSON:** Para extração de dados da API.\n",
        "- **OS:** Para manipulação de arquivos e diretórios.\n",
        "- **DuckDB:** Utilizado como banco de dados analítico na camada Ouro para o esquema estrela."
      ]
    },
    {
      "cell_type": "markdown",
      "metadata": {
        "id": "130945bd"
      },
      "source": [
        "## Limpeza e Tratamento de Dados\n",
        "\n",
        "Os dados foram extraídos de uma fonte JSON e processados utilizando a arquitetura Medalhão, dividindo o trabalho em três camadas:\n",
        "\n",
        "- **Camada Bronze:** Os dados brutos foram carregados diretamente do arquivo JSON.\n",
        "- **Camada Prata:** Nesta camada, os dados foram limpos e transformados. As colunas com informações aninhadas em formato JSON foram normalizadas. Valores inconsistentes na coluna `Charges.Total` foram tratados, e a coluna foi convertida para o tipo numérico correto. Clientes com `tenure` igual a zero foram removidos, pois não forneciam informações relevantes para a análise de churn. Colunas binárias ('Yes'/'No' ou similares) foram convertidas para 1 e 0 para facilitar a análise numérica. Colunas categóricas como 'gender', 'Contract', 'PaymentMethod', e 'InternetService' foram convertidas para o tipo 'category' do pandas. Uma nova coluna `Contas_Diarias` foi criada calculando o gasto diário. As colunas foram traduzidas para o português e renomeadas para melhor compreensão.\n",
        "- **Camada Ouro:** Os dados limpos e transformados da camada Prata foram carregados e estruturados em um esquema estrela utilizando DuckDB para facilitar a análise e consulta. Foram criadas as tabelas dim_clientes, dim_tipos_servicos, fato_servicos_clientes, dim_contratos e fato_gastos."
      ]
    },
    {
      "cell_type": "markdown",
      "metadata": {
        "id": "93d0e8db"
      },
      "source": [
        "## Análise Exploratória de Dados (EDA)\n",
        "\n",
        "Nesta seção, foram realizadas diversas análises para identificar padrões e tendências nos dados:\n",
        "\n",
        "### Análise Descritiva\n",
        "\n",
        "Foram apresentadas estatísticas descritivas gerais sobre o volume de clientes, taxa de churn, tempo de contrato e valores de contas mensais e totais.\n",
        "\n",
        "### Análise de Perfil dos Clientes\n",
        "\n",
        "Foram analisados os perfis dos clientes em relação a gênero, faixa etária (idoso/não idoso), estado civil (casal/solteiro) e dependentes.\n",
        "\n",
        "### Análise de Gastos por Atributos dos Clientes\n",
        "\n",
        "A análise dos gastos médios por diferentes atributos dos clientes revelou insights sobre o comportamento de consumo.\n",
        "\n",
        "### Análise de Churn e Gastos por Atributos dos Contratos\n",
        "\n",
        "A análise do churn e dos gastos em relação aos atributos dos contratos, como tipo de contrato, fatura online e forma de pagamento, forneceu informações sobre quais características contratuais estão mais associadas à evasão e aos gastos dos clientes.\n",
        "\n",
        "### Análise de Churn por Atributos dos Serviços\n",
        "\n",
        "A análise do churn em relação aos serviços contratados e opcionais ajudou a identificar quais serviços podem estar mais relacionados à evasão.\n",
        "\n",
        "### Análise de Churn por Atributos dos Clientes\n",
        "\n",
        "A análise do churn em relação aos atributos de perfil dos clientes (gênero, idade, estado civil, dependentes) ajudou a entender se certos grupos demográficos apresentam maior tendência a cancelar.\n",
        "\n",
        "### Contagem de Evasão por Variáveis Numéricas\n",
        "\n",
        "A análise da distribuição de variáveis numéricas, como tempo de contrato e gastos, entre clientes evadidos e ativos, ajudou a identificar possíveis limiares ou padrões associados ao churn."
      ]
    },
    {
      "cell_type": "code",
      "metadata": {
        "id": "77bfdf12"
      },
      "source": [
        "# Analise Descritiva resumida:\n",
        "print(f'Clientes                  : {df_ouro.ID_Cliente.count()}')\n",
        "print(f'   -           Cancelados : {df_ouro.query(\"Churn == 1\").ID_Cliente.count()}')\n",
        "print(f'   -       Não Cancelados : {df_ouro.query(\"Churn == 0\").ID_Cliente.count()}')\n",
        "print(f'   -   Média cancelamento : {df_ouro.query(\"Churn == 1\").ID_Cliente.count()/df_ouro.ID_Cliente.count():.2%} ')\n",
        "print()\n",
        "print(f'Tempo de Contrato:')\n",
        "print(f'   -               Máximo : {df_ouro.Tempo_Contrato.max()} meses')\n",
        "print(f'   -               Mínimo : {df_ouro.Tempo_Contrato.min()} meses')\n",
        "print(f'   -                Médio : {df_ouro.Tempo_Contrato.mean():.2f} meses')\n",
        "print(f'   -        Desvio padrão : {df_ouro.Tempo_Contrato.std():.2f} meses')\n",
        "print(f'   -              Mediana : {df_ouro.Tempo_Contrato.median():.2f} meses')\n",
        "print()\n",
        "print(f'Conta Mensal:')\n",
        "print(f'   -               Máximo : R${df_ouro.Conta_Mensal.max():.2f}')\n",
        "print(f'   -               Mínimo : R${df_ouro.Conta_Mensal.min():.2f}')\n",
        "print(f'   -                Médio : R${df_ouro.Conta_Mensal.mean():.2f}')\n",
        "print(f'   -        Desvio padrão : R${df_ouro.Conta_Mensal.std():.2f}')\n",
        "print(f'   -              Mediana : R${df_ouro.Conta_Mensal.median():.2f}')\n",
        "print()\n",
        "print(f'Conta Total:')\n",
        "print(f'   -               Máximo : R${df_ouro.Conta_Total.max():.2f}')\n",
        "print(f'   -               Mínimo : R${df_ouro.Conta_Total.min():.2f}')\n",
        "print(f'   -                Médio : R${df_ouro.Conta_Total.mean():.2f}')\n",
        "print(f'   -        Desvio padrão : R${df_ouro.Conta_Total.std():.2f}')\n",
        "print(f'   -              Mediana : R${df_ouro.Conta_Total.median():.2f}')"
      ],
      "execution_count": null,
      "outputs": []
    },
    {
      "cell_type": "code",
      "metadata": {
        "id": "79015c80"
      },
      "source": [
        "with plt.style.context('seaborn-v0_8-dark'):\n",
        "  max_y = 1800\n",
        "  cores = sns.color_palette(\"dark\")\n",
        "  fig, ax = plt.subplots(figsize=(10,6))\n",
        "  fig.suptitle('Perfil dos Clientes')\n",
        "  sns.scatterplot(data=ouro_Evasao_Conta, x=\"Tempo_Contrato\", y=\"Conta_Total\", hue=\"Evasao\", style=\"Evasao\")\n",
        "  plt.savefig('data/Images/Scatterplot_Tempo_Contrato_Evasao.png')\n",
        "  plt.show()"
      ],
      "execution_count": null,
      "outputs": []
    },
    {
      "cell_type": "code",
      "metadata": {
        "id": "6c3714fb"
      },
      "source": [
        "with plt.style.context('seaborn-v0_8-dark'):\n",
        "  max_y = 1800\n",
        "  cores = sns.color_palette(\"dark\")\n",
        "  sns.displot(data=ouro_Evasao_Tempo_Contrato, x=\"Tempo_Contrato\", hue=\"Evasao\", kind='kde')\n",
        "  plt.savefig('data/Images/KDEplot_Tempo_Contrato_Evasao.png')\n",
        "  plt.savefig('data/Images/KDEplot_Conta_Mensal_Evasao.png')\n",
        "  plt.show()"
      ],
      "execution_count": null,
      "outputs": []
    },
    {
      "cell_type": "code",
      "metadata": {
        "id": "fa12afdf"
      },
      "source": [
        "with plt.style.context('seaborn-v0_8-dark'):\n",
        "  max_y = 1800\n",
        "  cores = sns.color_palette(\"dark\")\n",
        "  sns.displot(data=ouro_Evasao_Conta_Mensal, x=\"Conta Mensal\", hue=\"Evasao\", kind='kde')\n",
        "\n",
        "  plt.show()"
      ],
      "execution_count": null,
      "outputs": []
    },
    {
      "cell_type": "markdown",
      "metadata": {
        "id": "2684caab"
      },
      "source": [
        "## Conclusões e Insights\n",
        "\n",
        "Com base na análise exploratória, podemos destacar os seguintes insights:\n",
        "\n",
        "- Clientes com contratos de menor duração (mês a mês) apresentam uma taxa de churn significativamente maior.\n",
        "- Clientes que utilizam a forma de pagamento \"Electronic check\" têm uma maior proporção de churn.\n",
        "- Clientes com Internet Fibra Óptica parecem ter uma taxa de churn maior em comparação com outros tipos de serviço de internet.\n",
        "- A ausência de serviços opcionais como Online Security, Online Backup, Device Protection e Tech Support parece estar associada a uma maior probabilidade de churn.\n",
        "- Clientes com maior tempo de contrato e maiores gastos totais tendem a apresentar menor taxa de churn.\n",
        "\n",
        "## Recomendações\n",
        "\n",
        "Com base nos insights obtidos, sugerimos as seguintes recomendações para a Telecom X:\n",
        "\n",
        "- Desenvolver programas de fidelidade e incentivos para clientes com contratos de menor duração, visando a renovação para contratos mais longos.\n",
        "- Investigar possíveis problemas ou insatisfações associadas à forma de pagamento \"Electronic check\" e oferecer alternativas ou melhorias no processo.\n",
        "- Avaliar a qualidade do serviço de Internet Fibra Óptica e a satisfação dos clientes, buscando identificar e solucionar possíveis problemas que possam estar levando ao churn.\n",
        "- Promover os serviços opcionais de segurança e suporte técnico para os clientes, destacando os benefícios e o valor agregado para reduzir a probabilidade de churn.\n",
        "- Implementar estratégias de retenção direcionadas a clientes com menor tempo de contrato, oferecendo suporte proativo e benefícios exclusivos.\n",
        "\n",
        "Essas recomendações podem servir como ponto de partida para a equipe de Data Science desenvolver modelos preditivos mais precisos e implementar estratégias de retenção mais eficazes."
      ]
    },
    {
      "cell_type": "code",
      "source": [
        "# Encerrar o DuckDB\n",
        "db.close()"
      ],
      "metadata": {
        "id": "b0hQEkNmR8Be"
      },
      "execution_count": null,
      "outputs": []
    },
    {
      "cell_type": "markdown",
      "source": [
        "### Download dos arquivos gerados"
      ],
      "metadata": {
        "id": "vN81JPlqO_wL"
      }
    },
    {
      "cell_type": "code",
      "metadata": {
        "id": "0180efd1"
      },
      "source": [
        "# Zip the data folder\n",
        "!zip -r data.zip data\n",
        "\n",
        "# Download the zip file\n",
        "from google.colab import files\n",
        "files.download('data.zip')"
      ],
      "execution_count": null,
      "outputs": []
    }
  ],
  "metadata": {
    "colab": {
      "provenance": [],
      "include_colab_link": true
    },
    "kernelspec": {
      "display_name": "Python 3",
      "name": "python3"
    },
    "language_info": {
      "name": "python"
    }
  },
  "nbformat": 4,
  "nbformat_minor": 0
}